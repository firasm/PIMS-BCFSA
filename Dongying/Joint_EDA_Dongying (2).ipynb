{
 "cells": [
  {
   "cell_type": "code",
   "execution_count": 1,
   "metadata": {},
   "outputs": [],
   "source": [
    "import pandas as pd\n",
    "import numpy as np\n",
    "import pydotplus \n",
    "import io\n",
    "from sklearn import tree\n",
    "from sklearn.tree import DecisionTreeClassifier\n",
    "from sklearn.tree import export_graphviz\n",
    "from sklearn.model_selection import train_test_split\n",
    "from matplotlib import pyplot as plt\n",
    "import seaborn as sns\n",
    "from scipy import misc\n",
    "import xgboost as xgb\n",
    "from sklearn.metrics import balanced_accuracy_score, roc_auc_score, make_scorer\n",
    "#from sklearn.model_selection import CridSearchCV\n",
    "from sklearn.metrics import confusion_matrix\n",
    "from sklearn.metrics import plot_confusion_matrix\n",
    "\n",
    "%matplotlib inline\n",
    "\n",
    "\n",
    "url = 'https://raw.githubusercontent.com/firasm/PIMS-BCFSA/master/New_Sample_Clean_latest.csv'\n",
    "#url ='https://raw.githubusercontent.com/shughestr/PIMS_2020_Real_Estate_data/master/sample_clean.csv'\n",
    "  \n",
    "df = pd.read_csv(url, error_bad_lines=False)\n",
    "df=df.dropna()\n",
    "# in this step, we removed 2 columns \n",
    "for col in df.columns:\n",
    "    if len(df[col].unique())==1:\n",
    "        df.drop(col,inplace=True,axis=1)\n"
   ]
  },
  {
   "cell_type": "code",
   "execution_count": 2,
   "metadata": {},
   "outputs": [],
   "source": [
    "from itertools import product\n",
    "\n",
    "def check_cardinality(df):\n",
    "\n",
    "    combinations_lst = list(product(df.columns, df.columns))\n",
    "    relations = ['one_to_one', 'one_to_many', 'many_to_one']\n",
    "\n",
    "    output = []\n",
    "    for col1, col2 in combinations_lst:\n",
    "        for relation in relations:\n",
    "            try:\n",
    "                pd.merge(df[[col1]], df[[col2]], left_on=col1, right_on=col2, validate=relation)\n",
    "                output.append([col1, col2, relation])\n",
    "            except:\n",
    "                continue\n",
    "\n",
    "    return output\n",
    "\n"
   ]
  },
  {
   "cell_type": "code",
   "execution_count": 3,
   "metadata": {},
   "outputs": [
    {
     "name": "stdout",
     "output_type": "stream",
     "text": [
      "Unnamed: 0 ADDRESS one-to-many\n",
      "Unnamed: 0 ASSESSED_VALUE one-to-many\n",
      "Unnamed: 0 COMM_CODE one-to-many\n",
      "Unnamed: 0 COMM_NAME one-to-many\n",
      "Unnamed: 0 LATITUDE one-to-many\n",
      "Unnamed: 0 LONGITUDE one-to-many\n",
      "Unnamed: 0 ROLL_NUMBER one-to-many\n",
      "Unnamed: 0 Year one-to-many\n",
      "Unnamed: 0 location one-to-many\n",
      "Unnamed: 0 fsa one-to-many\n",
      "Unnamed: 0 pct_change one-to-many\n",
      "Unnamed: 0 YEAR_OF_CONSTRUCTION one-to-many\n",
      "Unnamed: 0 saf1 one-to-many\n",
      "Unnamed: 0 saf2 one-to-many\n",
      "Unnamed: 0 saf3 one-to-many\n",
      "Unnamed: 0 saf4 one-to-many\n",
      "Unnamed: 0 saf5 one-to-many\n",
      "Unnamed: 0 saf6 one-to-many\n",
      "Unnamed: 0 saf7 one-to-many\n",
      "Unnamed: 0 saf8 one-to-many\n",
      "Unnamed: 0 mr5y one-to-many\n",
      "Unnamed: 0 Inflation one-to-many\n",
      "Unnamed: 0 pop1 one-to-many\n",
      "Unnamed: 0 pop2 one-to-many\n",
      "Unnamed: 0 pop3 one-to-many\n",
      "Unnamed: 0 pop4 one-to-many\n",
      "Unnamed: 0 pop5 one-to-many\n",
      "Unnamed: 0 pop6 one-to-many\n",
      "Unnamed: 0 lan1 one-to-many\n",
      "Unnamed: 0 lan2 one-to-many\n",
      "Unnamed: 0 inc1 one-to-many\n",
      "Unnamed: 0 inc2 one-to-many\n",
      "Unnamed: 0 inc3 one-to-many\n",
      "Unnamed: 0 inc4 one-to-many\n",
      "Unnamed: 0 own1 one-to-many\n",
      "Unnamed: 0 own2 one-to-many\n",
      "Unnamed: 0 own3 one-to-many\n",
      "Unnamed: 0 own4 one-to-many\n",
      "Unnamed: 0 lab1 one-to-many\n",
      "Unnamed: 0 lab2 one-to-many\n",
      "Unnamed: 0 lab3 one-to-many\n",
      "Unnamed: 0 vacancy_rate one-to-many\n",
      "Unnamed: 0 walk_score_comm one-to-many\n",
      "Unnamed: 0 transit_score_comm one-to-many\n",
      "Unnamed: 0 bike_score_comm one-to-many\n",
      "Unnamed: 0 comm_polulation one-to-many\n",
      "ADDRESS Unnamed: 0 many-to-one\n",
      "ADDRESS ASSESSED_VALUE many-to-many\n",
      "ADDRESS COMM_CODE many-to-many\n",
      "ADDRESS COMM_NAME many-to-many\n",
      "ADDRESS LATITUDE many-to-many\n",
      "ADDRESS LONGITUDE many-to-many\n",
      "ADDRESS ROLL_NUMBER many-to-many\n",
      "ADDRESS Year many-to-many\n",
      "ADDRESS location many-to-many\n",
      "ADDRESS fsa many-to-many\n",
      "ADDRESS pct_change many-to-many\n",
      "ADDRESS YEAR_OF_CONSTRUCTION many-to-many\n",
      "ADDRESS saf1 many-to-many\n",
      "ADDRESS saf2 many-to-many\n",
      "ADDRESS saf3 many-to-many\n",
      "ADDRESS saf4 many-to-many\n",
      "ADDRESS saf5 many-to-many\n",
      "ADDRESS saf6 many-to-many\n",
      "ADDRESS saf7 many-to-many\n",
      "ADDRESS saf8 many-to-many\n",
      "ADDRESS mr5y many-to-many\n",
      "ADDRESS Inflation many-to-many\n",
      "ADDRESS pop1 many-to-many\n",
      "ADDRESS pop2 many-to-many\n",
      "ADDRESS pop3 many-to-many\n",
      "ADDRESS pop4 many-to-many\n",
      "ADDRESS pop5 many-to-many\n",
      "ADDRESS pop6 many-to-many\n",
      "ADDRESS lan1 many-to-many\n",
      "ADDRESS lan2 many-to-many\n",
      "ADDRESS inc1 many-to-many\n",
      "ADDRESS inc2 many-to-many\n",
      "ADDRESS inc3 many-to-many\n",
      "ADDRESS inc4 many-to-many\n",
      "ADDRESS own1 many-to-many\n",
      "ADDRESS own2 many-to-many\n",
      "ADDRESS own3 many-to-many\n",
      "ADDRESS own4 many-to-many\n",
      "ADDRESS lab1 many-to-many\n",
      "ADDRESS lab2 many-to-many\n",
      "ADDRESS lab3 many-to-many\n",
      "ADDRESS vacancy_rate many-to-many\n",
      "ADDRESS walk_score_comm many-to-many\n",
      "ADDRESS transit_score_comm many-to-many\n",
      "ADDRESS bike_score_comm many-to-many\n",
      "ADDRESS comm_polulation many-to-many\n",
      "ASSESSED_VALUE Unnamed: 0 many-to-one\n",
      "ASSESSED_VALUE ADDRESS many-to-many\n",
      "ASSESSED_VALUE COMM_CODE many-to-many\n",
      "ASSESSED_VALUE COMM_NAME many-to-many\n",
      "ASSESSED_VALUE LATITUDE many-to-many\n",
      "ASSESSED_VALUE LONGITUDE many-to-many\n",
      "ASSESSED_VALUE ROLL_NUMBER many-to-many\n",
      "ASSESSED_VALUE Year many-to-many\n",
      "ASSESSED_VALUE location many-to-many\n",
      "ASSESSED_VALUE fsa many-to-many\n",
      "ASSESSED_VALUE pct_change many-to-many\n",
      "ASSESSED_VALUE YEAR_OF_CONSTRUCTION many-to-many\n",
      "ASSESSED_VALUE saf1 many-to-many\n",
      "ASSESSED_VALUE saf2 many-to-many\n",
      "ASSESSED_VALUE saf3 many-to-many\n",
      "ASSESSED_VALUE saf4 many-to-many\n",
      "ASSESSED_VALUE saf5 many-to-many\n",
      "ASSESSED_VALUE saf6 many-to-many\n",
      "ASSESSED_VALUE saf7 many-to-many\n",
      "ASSESSED_VALUE saf8 many-to-many\n",
      "ASSESSED_VALUE mr5y many-to-many\n",
      "ASSESSED_VALUE Inflation many-to-many\n",
      "ASSESSED_VALUE pop1 many-to-many\n",
      "ASSESSED_VALUE pop2 many-to-many\n",
      "ASSESSED_VALUE pop3 many-to-many\n",
      "ASSESSED_VALUE pop4 many-to-many\n",
      "ASSESSED_VALUE pop5 many-to-many\n",
      "ASSESSED_VALUE pop6 many-to-many\n",
      "ASSESSED_VALUE lan1 many-to-many\n",
      "ASSESSED_VALUE lan2 many-to-many\n",
      "ASSESSED_VALUE inc1 many-to-many\n",
      "ASSESSED_VALUE inc2 many-to-many\n",
      "ASSESSED_VALUE inc3 many-to-many\n",
      "ASSESSED_VALUE inc4 many-to-many\n",
      "ASSESSED_VALUE own1 many-to-many\n",
      "ASSESSED_VALUE own2 many-to-many\n",
      "ASSESSED_VALUE own3 many-to-many\n",
      "ASSESSED_VALUE own4 many-to-many\n",
      "ASSESSED_VALUE lab1 many-to-many\n",
      "ASSESSED_VALUE lab2 many-to-many\n",
      "ASSESSED_VALUE lab3 many-to-many\n",
      "ASSESSED_VALUE vacancy_rate many-to-many\n",
      "ASSESSED_VALUE walk_score_comm many-to-many\n",
      "ASSESSED_VALUE transit_score_comm many-to-many\n",
      "ASSESSED_VALUE bike_score_comm many-to-many\n",
      "ASSESSED_VALUE comm_polulation many-to-many\n",
      "COMM_CODE Unnamed: 0 many-to-one\n",
      "COMM_CODE ADDRESS many-to-many\n",
      "COMM_CODE ASSESSED_VALUE many-to-many\n",
      "COMM_CODE COMM_NAME many-to-many\n",
      "COMM_CODE LATITUDE many-to-many\n",
      "COMM_CODE LONGITUDE many-to-many\n",
      "COMM_CODE ROLL_NUMBER many-to-many\n",
      "COMM_CODE Year many-to-many\n",
      "COMM_CODE location many-to-many\n",
      "COMM_CODE fsa many-to-many\n",
      "COMM_CODE pct_change many-to-many\n",
      "COMM_CODE YEAR_OF_CONSTRUCTION many-to-many\n",
      "COMM_CODE saf1 many-to-many\n",
      "COMM_CODE saf2 many-to-many\n",
      "COMM_CODE saf3 many-to-many\n",
      "COMM_CODE saf4 many-to-many\n",
      "COMM_CODE saf5 many-to-many\n",
      "COMM_CODE saf6 many-to-many\n",
      "COMM_CODE saf7 many-to-many\n",
      "COMM_CODE saf8 many-to-many\n",
      "COMM_CODE mr5y many-to-many\n",
      "COMM_CODE Inflation many-to-many\n",
      "COMM_CODE pop1 many-to-many\n",
      "COMM_CODE pop2 many-to-many\n",
      "COMM_CODE pop3 many-to-many\n",
      "COMM_CODE pop4 many-to-many\n",
      "COMM_CODE pop5 many-to-many\n",
      "COMM_CODE pop6 many-to-many\n",
      "COMM_CODE lan1 many-to-many\n",
      "COMM_CODE lan2 many-to-many\n",
      "COMM_CODE inc1 many-to-many\n",
      "COMM_CODE inc2 many-to-many\n",
      "COMM_CODE inc3 many-to-many\n",
      "COMM_CODE inc4 many-to-many\n",
      "COMM_CODE own1 many-to-many\n",
      "COMM_CODE own2 many-to-many\n",
      "COMM_CODE own3 many-to-many\n",
      "COMM_CODE own4 many-to-many\n",
      "COMM_CODE lab1 many-to-many\n",
      "COMM_CODE lab2 many-to-many\n",
      "COMM_CODE lab3 many-to-many\n",
      "COMM_CODE vacancy_rate many-to-many\n",
      "COMM_CODE walk_score_comm many-to-many\n",
      "COMM_CODE transit_score_comm many-to-many\n",
      "COMM_CODE bike_score_comm many-to-many\n",
      "COMM_CODE comm_polulation many-to-many\n",
      "COMM_NAME Unnamed: 0 many-to-one\n",
      "COMM_NAME ADDRESS many-to-many\n",
      "COMM_NAME ASSESSED_VALUE many-to-many\n",
      "COMM_NAME COMM_CODE many-to-many\n",
      "COMM_NAME LATITUDE many-to-many\n",
      "COMM_NAME LONGITUDE many-to-many\n",
      "COMM_NAME ROLL_NUMBER many-to-many\n",
      "COMM_NAME Year many-to-many\n",
      "COMM_NAME location many-to-many\n",
      "COMM_NAME fsa many-to-many\n",
      "COMM_NAME pct_change many-to-many\n",
      "COMM_NAME YEAR_OF_CONSTRUCTION many-to-many\n",
      "COMM_NAME saf1 many-to-many\n",
      "COMM_NAME saf2 many-to-many\n",
      "COMM_NAME saf3 many-to-many\n",
      "COMM_NAME saf4 many-to-many\n",
      "COMM_NAME saf5 many-to-many\n",
      "COMM_NAME saf6 many-to-many\n",
      "COMM_NAME saf7 many-to-many\n",
      "COMM_NAME saf8 many-to-many\n",
      "COMM_NAME mr5y many-to-many\n",
      "COMM_NAME Inflation many-to-many\n",
      "COMM_NAME pop1 many-to-many\n",
      "COMM_NAME pop2 many-to-many\n",
      "COMM_NAME pop3 many-to-many\n",
      "COMM_NAME pop4 many-to-many\n",
      "COMM_NAME pop5 many-to-many\n",
      "COMM_NAME pop6 many-to-many\n",
      "COMM_NAME lan1 many-to-many\n",
      "COMM_NAME lan2 many-to-many\n",
      "COMM_NAME inc1 many-to-many\n",
      "COMM_NAME inc2 many-to-many\n",
      "COMM_NAME inc3 many-to-many\n",
      "COMM_NAME inc4 many-to-many\n",
      "COMM_NAME own1 many-to-many\n",
      "COMM_NAME own2 many-to-many\n",
      "COMM_NAME own3 many-to-many\n",
      "COMM_NAME own4 many-to-many\n",
      "COMM_NAME lab1 many-to-many\n",
      "COMM_NAME lab2 many-to-many\n",
      "COMM_NAME lab3 many-to-many\n",
      "COMM_NAME vacancy_rate many-to-many\n",
      "COMM_NAME walk_score_comm many-to-many\n",
      "COMM_NAME transit_score_comm many-to-many\n",
      "COMM_NAME bike_score_comm many-to-many\n",
      "COMM_NAME comm_polulation many-to-many\n",
      "LATITUDE Unnamed: 0 many-to-one\n",
      "LATITUDE ADDRESS many-to-many\n",
      "LATITUDE ASSESSED_VALUE many-to-many\n",
      "LATITUDE COMM_CODE many-to-many\n",
      "LATITUDE COMM_NAME many-to-many\n",
      "LATITUDE LONGITUDE many-to-many\n",
      "LATITUDE ROLL_NUMBER many-to-many\n",
      "LATITUDE Year many-to-many\n",
      "LATITUDE location many-to-many\n",
      "LATITUDE fsa many-to-many\n",
      "LATITUDE pct_change many-to-many\n",
      "LATITUDE YEAR_OF_CONSTRUCTION many-to-many\n",
      "LATITUDE saf1 many-to-many\n",
      "LATITUDE saf2 many-to-many\n",
      "LATITUDE saf3 many-to-many\n",
      "LATITUDE saf4 many-to-many\n",
      "LATITUDE saf5 many-to-many\n",
      "LATITUDE saf6 many-to-many\n",
      "LATITUDE saf7 many-to-many\n",
      "LATITUDE saf8 many-to-many\n",
      "LATITUDE mr5y many-to-many\n",
      "LATITUDE Inflation many-to-many\n",
      "LATITUDE pop1 many-to-many\n",
      "LATITUDE pop2 many-to-many\n",
      "LATITUDE pop3 many-to-many\n",
      "LATITUDE pop4 many-to-many\n",
      "LATITUDE pop5 many-to-many\n",
      "LATITUDE pop6 many-to-many\n",
      "LATITUDE lan1 many-to-many\n",
      "LATITUDE lan2 many-to-many\n",
      "LATITUDE inc1 many-to-many\n",
      "LATITUDE inc2 many-to-many\n",
      "LATITUDE inc3 many-to-many\n",
      "LATITUDE inc4 many-to-many\n",
      "LATITUDE own1 many-to-many\n",
      "LATITUDE own2 many-to-many\n",
      "LATITUDE own3 many-to-many\n",
      "LATITUDE own4 many-to-many\n",
      "LATITUDE lab1 many-to-many\n",
      "LATITUDE lab2 many-to-many\n",
      "LATITUDE lab3 many-to-many\n",
      "LATITUDE vacancy_rate many-to-many\n",
      "LATITUDE walk_score_comm many-to-many\n",
      "LATITUDE transit_score_comm many-to-many\n",
      "LATITUDE bike_score_comm many-to-many\n",
      "LATITUDE comm_polulation many-to-many\n",
      "LONGITUDE Unnamed: 0 many-to-one\n",
      "LONGITUDE ADDRESS many-to-many\n",
      "LONGITUDE ASSESSED_VALUE many-to-many\n",
      "LONGITUDE COMM_CODE many-to-many\n",
      "LONGITUDE COMM_NAME many-to-many\n",
      "LONGITUDE LATITUDE many-to-many\n",
      "LONGITUDE ROLL_NUMBER many-to-many\n",
      "LONGITUDE Year many-to-many\n",
      "LONGITUDE location many-to-many\n",
      "LONGITUDE fsa many-to-many\n",
      "LONGITUDE pct_change many-to-many\n",
      "LONGITUDE YEAR_OF_CONSTRUCTION many-to-many\n",
      "LONGITUDE saf1 many-to-many\n",
      "LONGITUDE saf2 many-to-many\n",
      "LONGITUDE saf3 many-to-many\n",
      "LONGITUDE saf4 many-to-many\n",
      "LONGITUDE saf5 many-to-many\n",
      "LONGITUDE saf6 many-to-many\n",
      "LONGITUDE saf7 many-to-many\n",
      "LONGITUDE saf8 many-to-many\n",
      "LONGITUDE mr5y many-to-many\n",
      "LONGITUDE Inflation many-to-many\n",
      "LONGITUDE pop1 many-to-many\n",
      "LONGITUDE pop2 many-to-many\n",
      "LONGITUDE pop3 many-to-many\n",
      "LONGITUDE pop4 many-to-many\n",
      "LONGITUDE pop5 many-to-many\n",
      "LONGITUDE pop6 many-to-many\n",
      "LONGITUDE lan1 many-to-many\n",
      "LONGITUDE lan2 many-to-many\n",
      "LONGITUDE inc1 many-to-many\n",
      "LONGITUDE inc2 many-to-many\n",
      "LONGITUDE inc3 many-to-many\n",
      "LONGITUDE inc4 many-to-many\n",
      "LONGITUDE own1 many-to-many\n",
      "LONGITUDE own2 many-to-many\n",
      "LONGITUDE own3 many-to-many\n",
      "LONGITUDE own4 many-to-many\n",
      "LONGITUDE lab1 many-to-many\n",
      "LONGITUDE lab2 many-to-many\n",
      "LONGITUDE lab3 many-to-many\n",
      "LONGITUDE vacancy_rate many-to-many\n",
      "LONGITUDE walk_score_comm many-to-many\n",
      "LONGITUDE transit_score_comm many-to-many\n",
      "LONGITUDE bike_score_comm many-to-many\n",
      "LONGITUDE comm_polulation many-to-many\n",
      "ROLL_NUMBER Unnamed: 0 many-to-one\n",
      "ROLL_NUMBER ADDRESS many-to-many\n",
      "ROLL_NUMBER ASSESSED_VALUE many-to-many\n",
      "ROLL_NUMBER COMM_CODE many-to-many\n",
      "ROLL_NUMBER COMM_NAME many-to-many\n",
      "ROLL_NUMBER LATITUDE many-to-many\n",
      "ROLL_NUMBER LONGITUDE many-to-many\n",
      "ROLL_NUMBER Year many-to-many\n",
      "ROLL_NUMBER location many-to-many\n",
      "ROLL_NUMBER fsa many-to-many\n",
      "ROLL_NUMBER pct_change many-to-many\n",
      "ROLL_NUMBER YEAR_OF_CONSTRUCTION many-to-many\n",
      "ROLL_NUMBER saf1 many-to-many\n",
      "ROLL_NUMBER saf2 many-to-many\n",
      "ROLL_NUMBER saf3 many-to-many\n",
      "ROLL_NUMBER saf4 many-to-many\n",
      "ROLL_NUMBER saf5 many-to-many\n",
      "ROLL_NUMBER saf6 many-to-many\n",
      "ROLL_NUMBER saf7 many-to-many\n",
      "ROLL_NUMBER saf8 many-to-many\n",
      "ROLL_NUMBER mr5y many-to-many\n",
      "ROLL_NUMBER Inflation many-to-many\n",
      "ROLL_NUMBER pop1 many-to-many\n",
      "ROLL_NUMBER pop2 many-to-many\n",
      "ROLL_NUMBER pop3 many-to-many\n",
      "ROLL_NUMBER pop4 many-to-many\n",
      "ROLL_NUMBER pop5 many-to-many\n",
      "ROLL_NUMBER pop6 many-to-many\n",
      "ROLL_NUMBER lan1 many-to-many\n",
      "ROLL_NUMBER lan2 many-to-many\n",
      "ROLL_NUMBER inc1 many-to-many\n",
      "ROLL_NUMBER inc2 many-to-many\n",
      "ROLL_NUMBER inc3 many-to-many\n",
      "ROLL_NUMBER inc4 many-to-many\n",
      "ROLL_NUMBER own1 many-to-many\n",
      "ROLL_NUMBER own2 many-to-many\n",
      "ROLL_NUMBER own3 many-to-many\n",
      "ROLL_NUMBER own4 many-to-many\n",
      "ROLL_NUMBER lab1 many-to-many\n",
      "ROLL_NUMBER lab2 many-to-many\n",
      "ROLL_NUMBER lab3 many-to-many\n",
      "ROLL_NUMBER vacancy_rate many-to-many\n",
      "ROLL_NUMBER walk_score_comm many-to-many\n",
      "ROLL_NUMBER transit_score_comm many-to-many\n",
      "ROLL_NUMBER bike_score_comm many-to-many\n",
      "ROLL_NUMBER comm_polulation many-to-many\n",
      "Year Unnamed: 0 many-to-one\n",
      "Year ADDRESS many-to-many\n",
      "Year ASSESSED_VALUE many-to-many\n",
      "Year COMM_CODE many-to-many\n",
      "Year COMM_NAME many-to-many\n",
      "Year LATITUDE many-to-many\n",
      "Year LONGITUDE many-to-many\n",
      "Year ROLL_NUMBER many-to-many\n",
      "Year location many-to-many\n",
      "Year fsa many-to-many\n",
      "Year pct_change many-to-many\n",
      "Year YEAR_OF_CONSTRUCTION many-to-many\n",
      "Year saf1 many-to-many\n",
      "Year saf2 many-to-many\n",
      "Year saf3 many-to-many\n",
      "Year saf4 many-to-many\n",
      "Year saf5 many-to-many\n",
      "Year saf6 many-to-many\n",
      "Year saf7 many-to-many\n",
      "Year saf8 many-to-many\n",
      "Year mr5y many-to-many\n",
      "Year Inflation many-to-many\n",
      "Year pop1 many-to-many\n",
      "Year pop2 many-to-many\n",
      "Year pop3 many-to-many\n",
      "Year pop4 many-to-many\n",
      "Year pop5 many-to-many\n",
      "Year pop6 many-to-many\n",
      "Year lan1 many-to-many\n",
      "Year lan2 many-to-many\n",
      "Year inc1 many-to-many\n",
      "Year inc2 many-to-many\n",
      "Year inc3 many-to-many\n",
      "Year inc4 many-to-many\n",
      "Year own1 many-to-many\n",
      "Year own2 many-to-many\n",
      "Year own3 many-to-many\n",
      "Year own4 many-to-many\n",
      "Year lab1 many-to-many\n",
      "Year lab2 many-to-many\n",
      "Year lab3 many-to-many\n",
      "Year vacancy_rate many-to-many\n",
      "Year walk_score_comm many-to-many\n",
      "Year transit_score_comm many-to-many\n",
      "Year bike_score_comm many-to-many\n",
      "Year comm_polulation many-to-many\n",
      "location Unnamed: 0 many-to-one\n",
      "location ADDRESS many-to-many\n",
      "location ASSESSED_VALUE many-to-many\n",
      "location COMM_CODE many-to-many\n",
      "location COMM_NAME many-to-many\n",
      "location LATITUDE many-to-many\n",
      "location LONGITUDE many-to-many\n",
      "location ROLL_NUMBER many-to-many\n",
      "location Year many-to-many\n",
      "location fsa many-to-many\n",
      "location pct_change many-to-many\n",
      "location YEAR_OF_CONSTRUCTION many-to-many\n",
      "location saf1 many-to-many\n",
      "location saf2 many-to-many\n",
      "location saf3 many-to-many\n",
      "location saf4 many-to-many\n",
      "location saf5 many-to-many\n",
      "location saf6 many-to-many\n",
      "location saf7 many-to-many\n",
      "location saf8 many-to-many\n",
      "location mr5y many-to-many\n",
      "location Inflation many-to-many\n",
      "location pop1 many-to-many\n",
      "location pop2 many-to-many\n",
      "location pop3 many-to-many\n",
      "location pop4 many-to-many\n",
      "location pop5 many-to-many\n",
      "location pop6 many-to-many\n",
      "location lan1 many-to-many\n",
      "location lan2 many-to-many\n",
      "location inc1 many-to-many\n",
      "location inc2 many-to-many\n",
      "location inc3 many-to-many\n",
      "location inc4 many-to-many\n",
      "location own1 many-to-many\n",
      "location own2 many-to-many\n",
      "location own3 many-to-many\n",
      "location own4 many-to-many\n",
      "location lab1 many-to-many\n",
      "location lab2 many-to-many\n",
      "location lab3 many-to-many\n",
      "location vacancy_rate many-to-many\n",
      "location walk_score_comm many-to-many\n",
      "location transit_score_comm many-to-many\n",
      "location bike_score_comm many-to-many\n",
      "location comm_polulation many-to-many\n",
      "fsa Unnamed: 0 many-to-one\n",
      "fsa ADDRESS many-to-many\n",
      "fsa ASSESSED_VALUE many-to-many\n",
      "fsa COMM_CODE many-to-many\n",
      "fsa COMM_NAME many-to-many\n",
      "fsa LATITUDE many-to-many\n",
      "fsa LONGITUDE many-to-many\n",
      "fsa ROLL_NUMBER many-to-many\n",
      "fsa Year many-to-many\n",
      "fsa location many-to-many\n",
      "fsa pct_change many-to-many\n",
      "fsa YEAR_OF_CONSTRUCTION many-to-many\n",
      "fsa saf1 many-to-many\n",
      "fsa saf2 many-to-many\n",
      "fsa saf3 many-to-many\n",
      "fsa saf4 many-to-many\n",
      "fsa saf5 many-to-many\n",
      "fsa saf6 many-to-many\n",
      "fsa saf7 many-to-many\n",
      "fsa saf8 many-to-many\n",
      "fsa mr5y many-to-many\n",
      "fsa Inflation many-to-many\n",
      "fsa pop1 many-to-many\n",
      "fsa pop2 many-to-many\n",
      "fsa pop3 many-to-many\n",
      "fsa pop4 many-to-many\n",
      "fsa pop5 many-to-many\n",
      "fsa pop6 many-to-many\n",
      "fsa lan1 many-to-many\n",
      "fsa lan2 many-to-many\n",
      "fsa inc1 many-to-many\n",
      "fsa inc2 many-to-many\n",
      "fsa inc3 many-to-many\n",
      "fsa inc4 many-to-many\n",
      "fsa own1 many-to-many\n",
      "fsa own2 many-to-many\n",
      "fsa own3 many-to-many\n",
      "fsa own4 many-to-many\n",
      "fsa lab1 many-to-many\n",
      "fsa lab2 many-to-many\n",
      "fsa lab3 many-to-many\n",
      "fsa vacancy_rate many-to-many\n",
      "fsa walk_score_comm many-to-many\n",
      "fsa transit_score_comm many-to-many\n",
      "fsa bike_score_comm many-to-many\n",
      "fsa comm_polulation many-to-many\n",
      "pct_change Unnamed: 0 many-to-one\n",
      "pct_change ADDRESS many-to-many\n",
      "pct_change ASSESSED_VALUE many-to-many\n",
      "pct_change COMM_CODE many-to-many\n",
      "pct_change COMM_NAME many-to-many\n",
      "pct_change LATITUDE many-to-many\n",
      "pct_change LONGITUDE many-to-many\n",
      "pct_change ROLL_NUMBER many-to-many\n",
      "pct_change Year many-to-many\n",
      "pct_change location many-to-many\n",
      "pct_change fsa many-to-many\n",
      "pct_change YEAR_OF_CONSTRUCTION many-to-many\n",
      "pct_change saf1 many-to-many\n",
      "pct_change saf2 many-to-many\n",
      "pct_change saf3 many-to-many\n",
      "pct_change saf4 many-to-many\n",
      "pct_change saf5 many-to-many\n",
      "pct_change saf6 many-to-many\n",
      "pct_change saf7 many-to-many\n",
      "pct_change saf8 many-to-many\n",
      "pct_change mr5y many-to-many\n",
      "pct_change Inflation many-to-many\n",
      "pct_change pop1 many-to-many\n",
      "pct_change pop2 many-to-many\n",
      "pct_change pop3 many-to-many\n",
      "pct_change pop4 many-to-many\n",
      "pct_change pop5 many-to-many\n",
      "pct_change pop6 many-to-many\n",
      "pct_change lan1 many-to-many\n",
      "pct_change lan2 many-to-many\n",
      "pct_change inc1 many-to-many\n",
      "pct_change inc2 many-to-many\n",
      "pct_change inc3 many-to-many\n",
      "pct_change inc4 many-to-many\n",
      "pct_change own1 many-to-many\n",
      "pct_change own2 many-to-many\n",
      "pct_change own3 many-to-many\n",
      "pct_change own4 many-to-many\n",
      "pct_change lab1 many-to-many\n",
      "pct_change lab2 many-to-many\n",
      "pct_change lab3 many-to-many\n",
      "pct_change vacancy_rate many-to-many\n",
      "pct_change walk_score_comm many-to-many\n",
      "pct_change transit_score_comm many-to-many\n",
      "pct_change bike_score_comm many-to-many\n",
      "pct_change comm_polulation many-to-many\n",
      "YEAR_OF_CONSTRUCTION Unnamed: 0 many-to-one\n",
      "YEAR_OF_CONSTRUCTION ADDRESS many-to-many\n",
      "YEAR_OF_CONSTRUCTION ASSESSED_VALUE many-to-many\n",
      "YEAR_OF_CONSTRUCTION COMM_CODE many-to-many\n",
      "YEAR_OF_CONSTRUCTION COMM_NAME many-to-many\n",
      "YEAR_OF_CONSTRUCTION LATITUDE many-to-many\n",
      "YEAR_OF_CONSTRUCTION LONGITUDE many-to-many\n",
      "YEAR_OF_CONSTRUCTION ROLL_NUMBER many-to-many\n",
      "YEAR_OF_CONSTRUCTION Year many-to-many\n",
      "YEAR_OF_CONSTRUCTION location many-to-many\n",
      "YEAR_OF_CONSTRUCTION fsa many-to-many\n",
      "YEAR_OF_CONSTRUCTION pct_change many-to-many\n",
      "YEAR_OF_CONSTRUCTION saf1 many-to-many\n",
      "YEAR_OF_CONSTRUCTION saf2 many-to-many\n",
      "YEAR_OF_CONSTRUCTION saf3 many-to-many\n",
      "YEAR_OF_CONSTRUCTION saf4 many-to-many\n",
      "YEAR_OF_CONSTRUCTION saf5 many-to-many\n",
      "YEAR_OF_CONSTRUCTION saf6 many-to-many\n",
      "YEAR_OF_CONSTRUCTION saf7 many-to-many\n",
      "YEAR_OF_CONSTRUCTION saf8 many-to-many\n",
      "YEAR_OF_CONSTRUCTION mr5y many-to-many\n",
      "YEAR_OF_CONSTRUCTION Inflation many-to-many\n",
      "YEAR_OF_CONSTRUCTION pop1 many-to-many\n",
      "YEAR_OF_CONSTRUCTION pop2 many-to-many\n",
      "YEAR_OF_CONSTRUCTION pop3 many-to-many\n",
      "YEAR_OF_CONSTRUCTION pop4 many-to-many\n",
      "YEAR_OF_CONSTRUCTION pop5 many-to-many\n",
      "YEAR_OF_CONSTRUCTION pop6 many-to-many\n",
      "YEAR_OF_CONSTRUCTION lan1 many-to-many\n",
      "YEAR_OF_CONSTRUCTION lan2 many-to-many\n",
      "YEAR_OF_CONSTRUCTION inc1 many-to-many\n",
      "YEAR_OF_CONSTRUCTION inc2 many-to-many\n",
      "YEAR_OF_CONSTRUCTION inc3 many-to-many\n",
      "YEAR_OF_CONSTRUCTION inc4 many-to-many\n",
      "YEAR_OF_CONSTRUCTION own1 many-to-many\n",
      "YEAR_OF_CONSTRUCTION own2 many-to-many\n",
      "YEAR_OF_CONSTRUCTION own3 many-to-many\n",
      "YEAR_OF_CONSTRUCTION own4 many-to-many\n",
      "YEAR_OF_CONSTRUCTION lab1 many-to-many\n",
      "YEAR_OF_CONSTRUCTION lab2 many-to-many\n",
      "YEAR_OF_CONSTRUCTION lab3 many-to-many\n",
      "YEAR_OF_CONSTRUCTION vacancy_rate many-to-many\n",
      "YEAR_OF_CONSTRUCTION walk_score_comm many-to-many\n",
      "YEAR_OF_CONSTRUCTION transit_score_comm many-to-many\n",
      "YEAR_OF_CONSTRUCTION bike_score_comm many-to-many\n",
      "YEAR_OF_CONSTRUCTION comm_polulation many-to-many\n",
      "saf1 Unnamed: 0 many-to-one\n",
      "saf1 ADDRESS many-to-many\n",
      "saf1 ASSESSED_VALUE many-to-many\n",
      "saf1 COMM_CODE many-to-many\n",
      "saf1 COMM_NAME many-to-many\n",
      "saf1 LATITUDE many-to-many\n",
      "saf1 LONGITUDE many-to-many\n",
      "saf1 ROLL_NUMBER many-to-many\n",
      "saf1 Year many-to-many\n",
      "saf1 location many-to-many\n",
      "saf1 fsa many-to-many\n",
      "saf1 pct_change many-to-many\n",
      "saf1 YEAR_OF_CONSTRUCTION many-to-many\n",
      "saf1 saf2 many-to-many\n",
      "saf1 saf3 many-to-many\n",
      "saf1 saf4 many-to-many\n",
      "saf1 saf5 many-to-many\n",
      "saf1 saf6 many-to-many\n",
      "saf1 saf7 many-to-many\n",
      "saf1 saf8 many-to-many\n",
      "saf1 mr5y many-to-many\n",
      "saf1 Inflation many-to-many\n",
      "saf1 pop1 many-to-many\n",
      "saf1 pop2 many-to-many\n",
      "saf1 pop3 many-to-many\n",
      "saf1 pop4 many-to-many\n",
      "saf1 pop5 many-to-many\n",
      "saf1 pop6 many-to-many\n",
      "saf1 lan1 many-to-many\n",
      "saf1 lan2 many-to-many\n",
      "saf1 inc1 many-to-many\n",
      "saf1 inc2 many-to-many\n",
      "saf1 inc3 many-to-many\n",
      "saf1 inc4 many-to-many\n",
      "saf1 own1 many-to-many\n",
      "saf1 own2 many-to-many\n",
      "saf1 own3 many-to-many\n",
      "saf1 own4 many-to-many\n",
      "saf1 lab1 many-to-many\n",
      "saf1 lab2 many-to-many\n",
      "saf1 lab3 many-to-many\n",
      "saf1 vacancy_rate many-to-many\n",
      "saf1 walk_score_comm many-to-many\n",
      "saf1 transit_score_comm many-to-many\n",
      "saf1 bike_score_comm many-to-many\n",
      "saf1 comm_polulation many-to-many\n",
      "saf2 Unnamed: 0 many-to-one\n",
      "saf2 ADDRESS many-to-many\n",
      "saf2 ASSESSED_VALUE many-to-many\n",
      "saf2 COMM_CODE many-to-many\n",
      "saf2 COMM_NAME many-to-many\n",
      "saf2 LATITUDE many-to-many\n",
      "saf2 LONGITUDE many-to-many\n",
      "saf2 ROLL_NUMBER many-to-many\n",
      "saf2 Year many-to-many\n",
      "saf2 location many-to-many\n",
      "saf2 fsa many-to-many\n",
      "saf2 pct_change many-to-many\n",
      "saf2 YEAR_OF_CONSTRUCTION many-to-many\n",
      "saf2 saf1 many-to-many\n",
      "saf2 saf3 many-to-many\n",
      "saf2 saf4 many-to-many\n",
      "saf2 saf5 many-to-many\n",
      "saf2 saf6 many-to-many\n",
      "saf2 saf7 many-to-many\n",
      "saf2 saf8 many-to-many\n",
      "saf2 mr5y many-to-many\n",
      "saf2 Inflation many-to-many\n",
      "saf2 pop1 many-to-many\n",
      "saf2 pop2 many-to-many\n",
      "saf2 pop3 many-to-many\n",
      "saf2 pop4 many-to-many\n",
      "saf2 pop5 many-to-many\n",
      "saf2 pop6 many-to-many\n",
      "saf2 lan1 many-to-many\n",
      "saf2 lan2 many-to-many\n",
      "saf2 inc1 many-to-many\n",
      "saf2 inc2 many-to-many\n",
      "saf2 inc3 many-to-many\n",
      "saf2 inc4 many-to-many\n",
      "saf2 own1 many-to-many\n",
      "saf2 own2 many-to-many\n",
      "saf2 own3 many-to-many\n",
      "saf2 own4 many-to-many\n",
      "saf2 lab1 many-to-many\n",
      "saf2 lab2 many-to-many\n",
      "saf2 lab3 many-to-many\n",
      "saf2 vacancy_rate many-to-many\n",
      "saf2 walk_score_comm many-to-many\n",
      "saf2 transit_score_comm many-to-many\n",
      "saf2 bike_score_comm many-to-many\n",
      "saf2 comm_polulation many-to-many\n",
      "saf3 Unnamed: 0 many-to-one\n",
      "saf3 ADDRESS many-to-many\n",
      "saf3 ASSESSED_VALUE many-to-many\n",
      "saf3 COMM_CODE many-to-many\n",
      "saf3 COMM_NAME many-to-many\n",
      "saf3 LATITUDE many-to-many\n",
      "saf3 LONGITUDE many-to-many\n",
      "saf3 ROLL_NUMBER many-to-many\n",
      "saf3 Year many-to-many\n",
      "saf3 location many-to-many\n",
      "saf3 fsa many-to-many\n",
      "saf3 pct_change many-to-many\n",
      "saf3 YEAR_OF_CONSTRUCTION many-to-many\n",
      "saf3 saf1 many-to-many\n",
      "saf3 saf2 many-to-many\n",
      "saf3 saf4 many-to-many\n",
      "saf3 saf5 many-to-many\n",
      "saf3 saf6 many-to-many\n",
      "saf3 saf7 many-to-many\n",
      "saf3 saf8 many-to-many\n",
      "saf3 mr5y many-to-many\n",
      "saf3 Inflation many-to-many\n",
      "saf3 pop1 many-to-many\n",
      "saf3 pop2 many-to-many\n",
      "saf3 pop3 many-to-many\n",
      "saf3 pop4 many-to-many\n",
      "saf3 pop5 many-to-many\n",
      "saf3 pop6 many-to-many\n",
      "saf3 lan1 many-to-many\n",
      "saf3 lan2 many-to-many\n",
      "saf3 inc1 many-to-many\n",
      "saf3 inc2 many-to-many\n",
      "saf3 inc3 many-to-many\n",
      "saf3 inc4 many-to-many\n",
      "saf3 own1 many-to-many\n",
      "saf3 own2 many-to-many\n",
      "saf3 own3 many-to-many\n",
      "saf3 own4 many-to-many\n",
      "saf3 lab1 many-to-many\n",
      "saf3 lab2 many-to-many\n",
      "saf3 lab3 many-to-many\n",
      "saf3 vacancy_rate many-to-many\n",
      "saf3 walk_score_comm many-to-many\n",
      "saf3 transit_score_comm many-to-many\n",
      "saf3 bike_score_comm many-to-many\n",
      "saf3 comm_polulation many-to-many\n",
      "saf4 Unnamed: 0 many-to-one\n",
      "saf4 ADDRESS many-to-many\n",
      "saf4 ASSESSED_VALUE many-to-many\n",
      "saf4 COMM_CODE many-to-many\n",
      "saf4 COMM_NAME many-to-many\n",
      "saf4 LATITUDE many-to-many\n",
      "saf4 LONGITUDE many-to-many\n",
      "saf4 ROLL_NUMBER many-to-many\n",
      "saf4 Year many-to-many\n",
      "saf4 location many-to-many\n",
      "saf4 fsa many-to-many\n",
      "saf4 pct_change many-to-many\n",
      "saf4 YEAR_OF_CONSTRUCTION many-to-many\n",
      "saf4 saf1 many-to-many\n",
      "saf4 saf2 many-to-many\n",
      "saf4 saf3 many-to-many\n",
      "saf4 saf5 many-to-many\n",
      "saf4 saf6 many-to-many\n",
      "saf4 saf7 many-to-many\n",
      "saf4 saf8 many-to-many\n",
      "saf4 mr5y many-to-many\n",
      "saf4 Inflation many-to-many\n",
      "saf4 pop1 many-to-many\n",
      "saf4 pop2 many-to-many\n",
      "saf4 pop3 many-to-many\n",
      "saf4 pop4 many-to-many\n",
      "saf4 pop5 many-to-many\n",
      "saf4 pop6 many-to-many\n",
      "saf4 lan1 many-to-many\n",
      "saf4 lan2 many-to-many\n",
      "saf4 inc1 many-to-many\n",
      "saf4 inc2 many-to-many\n",
      "saf4 inc3 many-to-many\n",
      "saf4 inc4 many-to-many\n",
      "saf4 own1 many-to-many\n",
      "saf4 own2 many-to-many\n",
      "saf4 own3 many-to-many\n",
      "saf4 own4 many-to-many\n",
      "saf4 lab1 many-to-many\n",
      "saf4 lab2 many-to-many\n",
      "saf4 lab3 many-to-many\n",
      "saf4 vacancy_rate many-to-many\n",
      "saf4 walk_score_comm many-to-many\n",
      "saf4 transit_score_comm many-to-many\n",
      "saf4 bike_score_comm many-to-many\n",
      "saf4 comm_polulation many-to-many\n",
      "saf5 Unnamed: 0 many-to-one\n",
      "saf5 ADDRESS many-to-many\n",
      "saf5 ASSESSED_VALUE many-to-many\n",
      "saf5 COMM_CODE many-to-many\n",
      "saf5 COMM_NAME many-to-many\n",
      "saf5 LATITUDE many-to-many\n",
      "saf5 LONGITUDE many-to-many\n",
      "saf5 ROLL_NUMBER many-to-many\n",
      "saf5 Year many-to-many\n",
      "saf5 location many-to-many\n",
      "saf5 fsa many-to-many\n",
      "saf5 pct_change many-to-many\n",
      "saf5 YEAR_OF_CONSTRUCTION many-to-many\n",
      "saf5 saf1 many-to-many\n",
      "saf5 saf2 many-to-many\n",
      "saf5 saf3 many-to-many\n",
      "saf5 saf4 many-to-many\n",
      "saf5 saf6 many-to-many\n",
      "saf5 saf7 many-to-many\n",
      "saf5 saf8 many-to-many\n",
      "saf5 mr5y many-to-many\n",
      "saf5 Inflation many-to-many\n",
      "saf5 pop1 many-to-many\n",
      "saf5 pop2 many-to-many\n",
      "saf5 pop3 many-to-many\n",
      "saf5 pop4 many-to-many\n",
      "saf5 pop5 many-to-many\n",
      "saf5 pop6 many-to-many\n",
      "saf5 lan1 many-to-many\n",
      "saf5 lan2 many-to-many\n",
      "saf5 inc1 many-to-many\n",
      "saf5 inc2 many-to-many\n",
      "saf5 inc3 many-to-many\n",
      "saf5 inc4 many-to-many\n",
      "saf5 own1 many-to-many\n",
      "saf5 own2 many-to-many\n",
      "saf5 own3 many-to-many\n",
      "saf5 own4 many-to-many\n",
      "saf5 lab1 many-to-many\n",
      "saf5 lab2 many-to-many\n",
      "saf5 lab3 many-to-many\n",
      "saf5 vacancy_rate many-to-many\n",
      "saf5 walk_score_comm many-to-many\n",
      "saf5 transit_score_comm many-to-many\n",
      "saf5 bike_score_comm many-to-many\n",
      "saf5 comm_polulation many-to-many\n",
      "saf6 Unnamed: 0 many-to-one\n",
      "saf6 ADDRESS many-to-many\n",
      "saf6 ASSESSED_VALUE many-to-many\n",
      "saf6 COMM_CODE many-to-many\n",
      "saf6 COMM_NAME many-to-many\n",
      "saf6 LATITUDE many-to-many\n",
      "saf6 LONGITUDE many-to-many\n",
      "saf6 ROLL_NUMBER many-to-many\n",
      "saf6 Year many-to-many\n",
      "saf6 location many-to-many\n",
      "saf6 fsa many-to-many\n",
      "saf6 pct_change many-to-many\n",
      "saf6 YEAR_OF_CONSTRUCTION many-to-many\n",
      "saf6 saf1 many-to-many\n",
      "saf6 saf2 many-to-many\n",
      "saf6 saf3 many-to-many\n",
      "saf6 saf4 many-to-many\n",
      "saf6 saf5 many-to-many\n",
      "saf6 saf7 many-to-many\n",
      "saf6 saf8 many-to-many\n",
      "saf6 mr5y many-to-many\n",
      "saf6 Inflation many-to-many\n",
      "saf6 pop1 many-to-many\n",
      "saf6 pop2 many-to-many\n",
      "saf6 pop3 many-to-many\n",
      "saf6 pop4 many-to-many\n",
      "saf6 pop5 many-to-many\n",
      "saf6 pop6 many-to-many\n",
      "saf6 lan1 many-to-many\n",
      "saf6 lan2 many-to-many\n",
      "saf6 inc1 many-to-many\n",
      "saf6 inc2 many-to-many\n",
      "saf6 inc3 many-to-many\n",
      "saf6 inc4 many-to-many\n",
      "saf6 own1 many-to-many\n",
      "saf6 own2 many-to-many\n",
      "saf6 own3 many-to-many\n",
      "saf6 own4 many-to-many\n",
      "saf6 lab1 many-to-many\n",
      "saf6 lab2 many-to-many\n",
      "saf6 lab3 many-to-many\n",
      "saf6 vacancy_rate many-to-many\n",
      "saf6 walk_score_comm many-to-many\n",
      "saf6 transit_score_comm many-to-many\n",
      "saf6 bike_score_comm many-to-many\n",
      "saf6 comm_polulation many-to-many\n",
      "saf7 Unnamed: 0 many-to-one\n",
      "saf7 ADDRESS many-to-many\n",
      "saf7 ASSESSED_VALUE many-to-many\n",
      "saf7 COMM_CODE many-to-many\n",
      "saf7 COMM_NAME many-to-many\n",
      "saf7 LATITUDE many-to-many\n",
      "saf7 LONGITUDE many-to-many\n",
      "saf7 ROLL_NUMBER many-to-many\n",
      "saf7 Year many-to-many\n",
      "saf7 location many-to-many\n",
      "saf7 fsa many-to-many\n",
      "saf7 pct_change many-to-many\n",
      "saf7 YEAR_OF_CONSTRUCTION many-to-many\n",
      "saf7 saf1 many-to-many\n",
      "saf7 saf2 many-to-many\n",
      "saf7 saf3 many-to-many\n",
      "saf7 saf4 many-to-many\n",
      "saf7 saf5 many-to-many\n",
      "saf7 saf6 many-to-many\n",
      "saf7 saf8 many-to-many\n",
      "saf7 mr5y many-to-many\n",
      "saf7 Inflation many-to-many\n",
      "saf7 pop1 many-to-many\n",
      "saf7 pop2 many-to-many\n",
      "saf7 pop3 many-to-many\n",
      "saf7 pop4 many-to-many\n",
      "saf7 pop5 many-to-many\n",
      "saf7 pop6 many-to-many\n",
      "saf7 lan1 many-to-many\n",
      "saf7 lan2 many-to-many\n",
      "saf7 inc1 many-to-many\n",
      "saf7 inc2 many-to-many\n",
      "saf7 inc3 many-to-many\n",
      "saf7 inc4 many-to-many\n",
      "saf7 own1 many-to-many\n",
      "saf7 own2 many-to-many\n",
      "saf7 own3 many-to-many\n",
      "saf7 own4 many-to-many\n",
      "saf7 lab1 many-to-many\n",
      "saf7 lab2 many-to-many\n",
      "saf7 lab3 many-to-many\n",
      "saf7 vacancy_rate many-to-many\n",
      "saf7 walk_score_comm many-to-many\n",
      "saf7 transit_score_comm many-to-many\n",
      "saf7 bike_score_comm many-to-many\n",
      "saf7 comm_polulation many-to-many\n",
      "saf8 Unnamed: 0 many-to-one\n",
      "saf8 ADDRESS many-to-many\n",
      "saf8 ASSESSED_VALUE many-to-many\n",
      "saf8 COMM_CODE many-to-many\n",
      "saf8 COMM_NAME many-to-many\n",
      "saf8 LATITUDE many-to-many\n",
      "saf8 LONGITUDE many-to-many\n",
      "saf8 ROLL_NUMBER many-to-many\n",
      "saf8 Year many-to-many\n",
      "saf8 location many-to-many\n",
      "saf8 fsa many-to-many\n",
      "saf8 pct_change many-to-many\n",
      "saf8 YEAR_OF_CONSTRUCTION many-to-many\n",
      "saf8 saf1 many-to-many\n",
      "saf8 saf2 many-to-many\n",
      "saf8 saf3 many-to-many\n",
      "saf8 saf4 many-to-many\n",
      "saf8 saf5 many-to-many\n",
      "saf8 saf6 many-to-many\n",
      "saf8 saf7 many-to-many\n",
      "saf8 mr5y many-to-many\n",
      "saf8 Inflation many-to-many\n",
      "saf8 pop1 many-to-many\n",
      "saf8 pop2 many-to-many\n",
      "saf8 pop3 many-to-many\n",
      "saf8 pop4 many-to-many\n",
      "saf8 pop5 many-to-many\n",
      "saf8 pop6 many-to-many\n",
      "saf8 lan1 many-to-many\n",
      "saf8 lan2 many-to-many\n",
      "saf8 inc1 many-to-many\n",
      "saf8 inc2 many-to-many\n",
      "saf8 inc3 many-to-many\n",
      "saf8 inc4 many-to-many\n",
      "saf8 own1 many-to-many\n",
      "saf8 own2 many-to-many\n",
      "saf8 own3 many-to-many\n",
      "saf8 own4 many-to-many\n",
      "saf8 lab1 many-to-many\n",
      "saf8 lab2 many-to-many\n",
      "saf8 lab3 many-to-many\n",
      "saf8 vacancy_rate many-to-many\n",
      "saf8 walk_score_comm many-to-many\n",
      "saf8 transit_score_comm many-to-many\n",
      "saf8 bike_score_comm many-to-many\n",
      "saf8 comm_polulation many-to-many\n",
      "mr5y Unnamed: 0 many-to-one\n",
      "mr5y ADDRESS many-to-many\n",
      "mr5y ASSESSED_VALUE many-to-many\n",
      "mr5y COMM_CODE many-to-many\n",
      "mr5y COMM_NAME many-to-many\n",
      "mr5y LATITUDE many-to-many\n",
      "mr5y LONGITUDE many-to-many\n",
      "mr5y ROLL_NUMBER many-to-many\n",
      "mr5y Year many-to-many\n",
      "mr5y location many-to-many\n",
      "mr5y fsa many-to-many\n",
      "mr5y pct_change many-to-many\n",
      "mr5y YEAR_OF_CONSTRUCTION many-to-many\n",
      "mr5y saf1 many-to-many\n",
      "mr5y saf2 many-to-many\n",
      "mr5y saf3 many-to-many\n",
      "mr5y saf4 many-to-many\n",
      "mr5y saf5 many-to-many\n",
      "mr5y saf6 many-to-many\n",
      "mr5y saf7 many-to-many\n",
      "mr5y saf8 many-to-many\n",
      "mr5y Inflation many-to-many\n",
      "mr5y pop1 many-to-many\n",
      "mr5y pop2 many-to-many\n",
      "mr5y pop3 many-to-many\n",
      "mr5y pop4 many-to-many\n",
      "mr5y pop5 many-to-many\n",
      "mr5y pop6 many-to-many\n",
      "mr5y lan1 many-to-many\n",
      "mr5y lan2 many-to-many\n",
      "mr5y inc1 many-to-many\n",
      "mr5y inc2 many-to-many\n",
      "mr5y inc3 many-to-many\n",
      "mr5y inc4 many-to-many\n",
      "mr5y own1 many-to-many\n",
      "mr5y own2 many-to-many\n",
      "mr5y own3 many-to-many\n",
      "mr5y own4 many-to-many\n",
      "mr5y lab1 many-to-many\n",
      "mr5y lab2 many-to-many\n",
      "mr5y lab3 many-to-many\n",
      "mr5y vacancy_rate many-to-many\n",
      "mr5y walk_score_comm many-to-many\n",
      "mr5y transit_score_comm many-to-many\n",
      "mr5y bike_score_comm many-to-many\n",
      "mr5y comm_polulation many-to-many\n",
      "Inflation Unnamed: 0 many-to-one\n",
      "Inflation ADDRESS many-to-many\n",
      "Inflation ASSESSED_VALUE many-to-many\n",
      "Inflation COMM_CODE many-to-many\n",
      "Inflation COMM_NAME many-to-many\n",
      "Inflation LATITUDE many-to-many\n",
      "Inflation LONGITUDE many-to-many\n",
      "Inflation ROLL_NUMBER many-to-many\n",
      "Inflation Year many-to-many\n",
      "Inflation location many-to-many\n",
      "Inflation fsa many-to-many\n",
      "Inflation pct_change many-to-many\n",
      "Inflation YEAR_OF_CONSTRUCTION many-to-many\n",
      "Inflation saf1 many-to-many\n",
      "Inflation saf2 many-to-many\n",
      "Inflation saf3 many-to-many\n",
      "Inflation saf4 many-to-many\n",
      "Inflation saf5 many-to-many\n",
      "Inflation saf6 many-to-many\n",
      "Inflation saf7 many-to-many\n",
      "Inflation saf8 many-to-many\n",
      "Inflation mr5y many-to-many\n",
      "Inflation pop1 many-to-many\n",
      "Inflation pop2 many-to-many\n",
      "Inflation pop3 many-to-many\n",
      "Inflation pop4 many-to-many\n",
      "Inflation pop5 many-to-many\n",
      "Inflation pop6 many-to-many\n",
      "Inflation lan1 many-to-many\n",
      "Inflation lan2 many-to-many\n",
      "Inflation inc1 many-to-many\n",
      "Inflation inc2 many-to-many\n",
      "Inflation inc3 many-to-many\n",
      "Inflation inc4 many-to-many\n",
      "Inflation own1 many-to-many\n",
      "Inflation own2 many-to-many\n",
      "Inflation own3 many-to-many\n",
      "Inflation own4 many-to-many\n",
      "Inflation lab1 many-to-many\n",
      "Inflation lab2 many-to-many\n",
      "Inflation lab3 many-to-many\n",
      "Inflation vacancy_rate many-to-many\n",
      "Inflation walk_score_comm many-to-many\n",
      "Inflation transit_score_comm many-to-many\n",
      "Inflation bike_score_comm many-to-many\n",
      "Inflation comm_polulation many-to-many\n",
      "pop1 Unnamed: 0 many-to-one\n",
      "pop1 ADDRESS many-to-many\n",
      "pop1 ASSESSED_VALUE many-to-many\n",
      "pop1 COMM_CODE many-to-many\n",
      "pop1 COMM_NAME many-to-many\n",
      "pop1 LATITUDE many-to-many\n",
      "pop1 LONGITUDE many-to-many\n",
      "pop1 ROLL_NUMBER many-to-many\n",
      "pop1 Year many-to-many\n",
      "pop1 location many-to-many\n",
      "pop1 fsa many-to-many\n",
      "pop1 pct_change many-to-many\n",
      "pop1 YEAR_OF_CONSTRUCTION many-to-many\n",
      "pop1 saf1 many-to-many\n",
      "pop1 saf2 many-to-many\n",
      "pop1 saf3 many-to-many\n",
      "pop1 saf4 many-to-many\n",
      "pop1 saf5 many-to-many\n",
      "pop1 saf6 many-to-many\n",
      "pop1 saf7 many-to-many\n",
      "pop1 saf8 many-to-many\n",
      "pop1 mr5y many-to-many\n",
      "pop1 Inflation many-to-many\n",
      "pop1 pop2 many-to-many\n",
      "pop1 pop3 many-to-many\n",
      "pop1 pop4 many-to-many\n",
      "pop1 pop5 many-to-many\n",
      "pop1 pop6 many-to-many\n",
      "pop1 lan1 many-to-many\n",
      "pop1 lan2 many-to-many\n",
      "pop1 inc1 many-to-many\n",
      "pop1 inc2 many-to-many\n",
      "pop1 inc3 many-to-many\n",
      "pop1 inc4 many-to-many\n",
      "pop1 own1 many-to-many\n",
      "pop1 own2 many-to-many\n",
      "pop1 own3 many-to-many\n",
      "pop1 own4 many-to-many\n",
      "pop1 lab1 many-to-many\n",
      "pop1 lab2 many-to-many\n",
      "pop1 lab3 many-to-many\n",
      "pop1 vacancy_rate many-to-many\n",
      "pop1 walk_score_comm many-to-many\n",
      "pop1 transit_score_comm many-to-many\n",
      "pop1 bike_score_comm many-to-many\n",
      "pop1 comm_polulation many-to-many\n",
      "pop2 Unnamed: 0 many-to-one\n",
      "pop2 ADDRESS many-to-many\n",
      "pop2 ASSESSED_VALUE many-to-many\n",
      "pop2 COMM_CODE many-to-many\n",
      "pop2 COMM_NAME many-to-many\n",
      "pop2 LATITUDE many-to-many\n",
      "pop2 LONGITUDE many-to-many\n",
      "pop2 ROLL_NUMBER many-to-many\n",
      "pop2 Year many-to-many\n",
      "pop2 location many-to-many\n",
      "pop2 fsa many-to-many\n",
      "pop2 pct_change many-to-many\n",
      "pop2 YEAR_OF_CONSTRUCTION many-to-many\n",
      "pop2 saf1 many-to-many\n",
      "pop2 saf2 many-to-many\n",
      "pop2 saf3 many-to-many\n",
      "pop2 saf4 many-to-many\n",
      "pop2 saf5 many-to-many\n",
      "pop2 saf6 many-to-many\n",
      "pop2 saf7 many-to-many\n",
      "pop2 saf8 many-to-many\n",
      "pop2 mr5y many-to-many\n",
      "pop2 Inflation many-to-many\n",
      "pop2 pop1 many-to-many\n",
      "pop2 pop3 many-to-many\n",
      "pop2 pop4 many-to-many\n",
      "pop2 pop5 many-to-many\n",
      "pop2 pop6 many-to-many\n",
      "pop2 lan1 many-to-many\n",
      "pop2 lan2 many-to-many\n",
      "pop2 inc1 many-to-many\n",
      "pop2 inc2 many-to-many\n",
      "pop2 inc3 many-to-many\n",
      "pop2 inc4 many-to-many\n",
      "pop2 own1 many-to-many\n",
      "pop2 own2 many-to-many\n",
      "pop2 own3 many-to-many\n",
      "pop2 own4 many-to-many\n",
      "pop2 lab1 many-to-many\n",
      "pop2 lab2 many-to-many\n",
      "pop2 lab3 many-to-many\n",
      "pop2 vacancy_rate many-to-many\n",
      "pop2 walk_score_comm many-to-many\n",
      "pop2 transit_score_comm many-to-many\n",
      "pop2 bike_score_comm many-to-many\n",
      "pop2 comm_polulation many-to-many\n",
      "pop3 Unnamed: 0 many-to-one\n",
      "pop3 ADDRESS many-to-many\n",
      "pop3 ASSESSED_VALUE many-to-many\n",
      "pop3 COMM_CODE many-to-many\n",
      "pop3 COMM_NAME many-to-many\n",
      "pop3 LATITUDE many-to-many\n",
      "pop3 LONGITUDE many-to-many\n",
      "pop3 ROLL_NUMBER many-to-many\n",
      "pop3 Year many-to-many\n",
      "pop3 location many-to-many\n",
      "pop3 fsa many-to-many\n",
      "pop3 pct_change many-to-many\n",
      "pop3 YEAR_OF_CONSTRUCTION many-to-many\n",
      "pop3 saf1 many-to-many\n",
      "pop3 saf2 many-to-many\n",
      "pop3 saf3 many-to-many\n",
      "pop3 saf4 many-to-many\n",
      "pop3 saf5 many-to-many\n",
      "pop3 saf6 many-to-many\n",
      "pop3 saf7 many-to-many\n",
      "pop3 saf8 many-to-many\n",
      "pop3 mr5y many-to-many\n",
      "pop3 Inflation many-to-many\n",
      "pop3 pop1 many-to-many\n",
      "pop3 pop2 many-to-many\n",
      "pop3 pop4 many-to-many\n",
      "pop3 pop5 many-to-many\n",
      "pop3 pop6 many-to-many\n",
      "pop3 lan1 many-to-many\n",
      "pop3 lan2 many-to-many\n",
      "pop3 inc1 many-to-many\n",
      "pop3 inc2 many-to-many\n",
      "pop3 inc3 many-to-many\n",
      "pop3 inc4 many-to-many\n",
      "pop3 own1 many-to-many\n",
      "pop3 own2 many-to-many\n",
      "pop3 own3 many-to-many\n",
      "pop3 own4 many-to-many\n",
      "pop3 lab1 many-to-many\n",
      "pop3 lab2 many-to-many\n",
      "pop3 lab3 many-to-many\n",
      "pop3 vacancy_rate many-to-many\n",
      "pop3 walk_score_comm many-to-many\n",
      "pop3 transit_score_comm many-to-many\n",
      "pop3 bike_score_comm many-to-many\n",
      "pop3 comm_polulation many-to-many\n",
      "pop4 Unnamed: 0 many-to-one\n",
      "pop4 ADDRESS many-to-many\n",
      "pop4 ASSESSED_VALUE many-to-many\n",
      "pop4 COMM_CODE many-to-many\n",
      "pop4 COMM_NAME many-to-many\n",
      "pop4 LATITUDE many-to-many\n",
      "pop4 LONGITUDE many-to-many\n",
      "pop4 ROLL_NUMBER many-to-many\n",
      "pop4 Year many-to-many\n",
      "pop4 location many-to-many\n",
      "pop4 fsa many-to-many\n",
      "pop4 pct_change many-to-many\n",
      "pop4 YEAR_OF_CONSTRUCTION many-to-many\n",
      "pop4 saf1 many-to-many\n",
      "pop4 saf2 many-to-many\n",
      "pop4 saf3 many-to-many\n",
      "pop4 saf4 many-to-many\n",
      "pop4 saf5 many-to-many\n",
      "pop4 saf6 many-to-many\n",
      "pop4 saf7 many-to-many\n",
      "pop4 saf8 many-to-many\n",
      "pop4 mr5y many-to-many\n",
      "pop4 Inflation many-to-many\n",
      "pop4 pop1 many-to-many\n",
      "pop4 pop2 many-to-many\n",
      "pop4 pop3 many-to-many\n",
      "pop4 pop5 many-to-many\n",
      "pop4 pop6 many-to-many\n",
      "pop4 lan1 many-to-many\n",
      "pop4 lan2 many-to-many\n",
      "pop4 inc1 many-to-many\n",
      "pop4 inc2 many-to-many\n",
      "pop4 inc3 many-to-many\n",
      "pop4 inc4 many-to-many\n",
      "pop4 own1 many-to-many\n",
      "pop4 own2 many-to-many\n",
      "pop4 own3 many-to-many\n",
      "pop4 own4 many-to-many\n",
      "pop4 lab1 many-to-many\n",
      "pop4 lab2 many-to-many\n",
      "pop4 lab3 many-to-many\n",
      "pop4 vacancy_rate many-to-many\n",
      "pop4 walk_score_comm many-to-many\n",
      "pop4 transit_score_comm many-to-many\n",
      "pop4 bike_score_comm many-to-many\n",
      "pop4 comm_polulation many-to-many\n",
      "pop5 Unnamed: 0 many-to-one\n",
      "pop5 ADDRESS many-to-many\n",
      "pop5 ASSESSED_VALUE many-to-many\n",
      "pop5 COMM_CODE many-to-many\n",
      "pop5 COMM_NAME many-to-many\n",
      "pop5 LATITUDE many-to-many\n",
      "pop5 LONGITUDE many-to-many\n",
      "pop5 ROLL_NUMBER many-to-many\n",
      "pop5 Year many-to-many\n",
      "pop5 location many-to-many\n",
      "pop5 fsa many-to-many\n",
      "pop5 pct_change many-to-many\n",
      "pop5 YEAR_OF_CONSTRUCTION many-to-many\n",
      "pop5 saf1 many-to-many\n",
      "pop5 saf2 many-to-many\n",
      "pop5 saf3 many-to-many\n",
      "pop5 saf4 many-to-many\n",
      "pop5 saf5 many-to-many\n",
      "pop5 saf6 many-to-many\n",
      "pop5 saf7 many-to-many\n",
      "pop5 saf8 many-to-many\n",
      "pop5 mr5y many-to-many\n",
      "pop5 Inflation many-to-many\n",
      "pop5 pop1 many-to-many\n",
      "pop5 pop2 many-to-many\n",
      "pop5 pop3 many-to-many\n",
      "pop5 pop4 many-to-many\n",
      "pop5 pop6 many-to-many\n",
      "pop5 lan1 many-to-many\n",
      "pop5 lan2 many-to-many\n",
      "pop5 inc1 many-to-many\n",
      "pop5 inc2 many-to-many\n",
      "pop5 inc3 many-to-many\n",
      "pop5 inc4 many-to-many\n",
      "pop5 own1 many-to-many\n",
      "pop5 own2 many-to-many\n",
      "pop5 own3 many-to-many\n",
      "pop5 own4 many-to-many\n",
      "pop5 lab1 many-to-many\n",
      "pop5 lab2 many-to-many\n",
      "pop5 lab3 many-to-many\n",
      "pop5 vacancy_rate many-to-many\n",
      "pop5 walk_score_comm many-to-many\n",
      "pop5 transit_score_comm many-to-many\n",
      "pop5 bike_score_comm many-to-many\n",
      "pop5 comm_polulation many-to-many\n",
      "pop6 Unnamed: 0 many-to-one\n",
      "pop6 ADDRESS many-to-many\n",
      "pop6 ASSESSED_VALUE many-to-many\n",
      "pop6 COMM_CODE many-to-many\n",
      "pop6 COMM_NAME many-to-many\n",
      "pop6 LATITUDE many-to-many\n",
      "pop6 LONGITUDE many-to-many\n",
      "pop6 ROLL_NUMBER many-to-many\n",
      "pop6 Year many-to-many\n",
      "pop6 location many-to-many\n",
      "pop6 fsa many-to-many\n",
      "pop6 pct_change many-to-many\n",
      "pop6 YEAR_OF_CONSTRUCTION many-to-many\n",
      "pop6 saf1 many-to-many\n",
      "pop6 saf2 many-to-many\n",
      "pop6 saf3 many-to-many\n",
      "pop6 saf4 many-to-many\n",
      "pop6 saf5 many-to-many\n",
      "pop6 saf6 many-to-many\n",
      "pop6 saf7 many-to-many\n",
      "pop6 saf8 many-to-many\n",
      "pop6 mr5y many-to-many\n",
      "pop6 Inflation many-to-many\n",
      "pop6 pop1 many-to-many\n",
      "pop6 pop2 many-to-many\n",
      "pop6 pop3 many-to-many\n",
      "pop6 pop4 many-to-many\n",
      "pop6 pop5 many-to-many\n",
      "pop6 lan1 many-to-many\n",
      "pop6 lan2 many-to-many\n",
      "pop6 inc1 many-to-many\n",
      "pop6 inc2 many-to-many\n",
      "pop6 inc3 many-to-many\n",
      "pop6 inc4 many-to-many\n",
      "pop6 own1 many-to-many\n",
      "pop6 own2 many-to-many\n",
      "pop6 own3 many-to-many\n",
      "pop6 own4 many-to-many\n",
      "pop6 lab1 many-to-many\n",
      "pop6 lab2 many-to-many\n",
      "pop6 lab3 many-to-many\n",
      "pop6 vacancy_rate many-to-many\n",
      "pop6 walk_score_comm many-to-many\n",
      "pop6 transit_score_comm many-to-many\n",
      "pop6 bike_score_comm many-to-many\n",
      "pop6 comm_polulation many-to-many\n",
      "lan1 Unnamed: 0 many-to-one\n",
      "lan1 ADDRESS many-to-many\n",
      "lan1 ASSESSED_VALUE many-to-many\n",
      "lan1 COMM_CODE many-to-many\n",
      "lan1 COMM_NAME many-to-many\n",
      "lan1 LATITUDE many-to-many\n",
      "lan1 LONGITUDE many-to-many\n",
      "lan1 ROLL_NUMBER many-to-many\n",
      "lan1 Year many-to-many\n",
      "lan1 location many-to-many\n",
      "lan1 fsa many-to-many\n",
      "lan1 pct_change many-to-many\n",
      "lan1 YEAR_OF_CONSTRUCTION many-to-many\n",
      "lan1 saf1 many-to-many\n",
      "lan1 saf2 many-to-many\n",
      "lan1 saf3 many-to-many\n",
      "lan1 saf4 many-to-many\n",
      "lan1 saf5 many-to-many\n",
      "lan1 saf6 many-to-many\n",
      "lan1 saf7 many-to-many\n",
      "lan1 saf8 many-to-many\n",
      "lan1 mr5y many-to-many\n",
      "lan1 Inflation many-to-many\n",
      "lan1 pop1 many-to-many\n",
      "lan1 pop2 many-to-many\n",
      "lan1 pop3 many-to-many\n",
      "lan1 pop4 many-to-many\n",
      "lan1 pop5 many-to-many\n",
      "lan1 pop6 many-to-many\n",
      "lan1 lan2 many-to-many\n",
      "lan1 inc1 many-to-many\n",
      "lan1 inc2 many-to-many\n",
      "lan1 inc3 many-to-many\n",
      "lan1 inc4 many-to-many\n",
      "lan1 own1 many-to-many\n",
      "lan1 own2 many-to-many\n",
      "lan1 own3 many-to-many\n",
      "lan1 own4 many-to-many\n",
      "lan1 lab1 many-to-many\n",
      "lan1 lab2 many-to-many\n",
      "lan1 lab3 many-to-many\n",
      "lan1 vacancy_rate many-to-many\n",
      "lan1 walk_score_comm many-to-many\n",
      "lan1 transit_score_comm many-to-many\n",
      "lan1 bike_score_comm many-to-many\n",
      "lan1 comm_polulation many-to-many\n",
      "lan2 Unnamed: 0 many-to-one\n",
      "lan2 ADDRESS many-to-many\n",
      "lan2 ASSESSED_VALUE many-to-many\n",
      "lan2 COMM_CODE many-to-many\n",
      "lan2 COMM_NAME many-to-many\n",
      "lan2 LATITUDE many-to-many\n",
      "lan2 LONGITUDE many-to-many\n",
      "lan2 ROLL_NUMBER many-to-many\n",
      "lan2 Year many-to-many\n",
      "lan2 location many-to-many\n",
      "lan2 fsa many-to-many\n",
      "lan2 pct_change many-to-many\n",
      "lan2 YEAR_OF_CONSTRUCTION many-to-many\n",
      "lan2 saf1 many-to-many\n",
      "lan2 saf2 many-to-many\n",
      "lan2 saf3 many-to-many\n",
      "lan2 saf4 many-to-many\n",
      "lan2 saf5 many-to-many\n",
      "lan2 saf6 many-to-many\n",
      "lan2 saf7 many-to-many\n",
      "lan2 saf8 many-to-many\n",
      "lan2 mr5y many-to-many\n",
      "lan2 Inflation many-to-many\n",
      "lan2 pop1 many-to-many\n",
      "lan2 pop2 many-to-many\n",
      "lan2 pop3 many-to-many\n",
      "lan2 pop4 many-to-many\n",
      "lan2 pop5 many-to-many\n",
      "lan2 pop6 many-to-many\n",
      "lan2 lan1 many-to-many\n",
      "lan2 inc1 many-to-many\n",
      "lan2 inc2 many-to-many\n",
      "lan2 inc3 many-to-many\n",
      "lan2 inc4 many-to-many\n",
      "lan2 own1 many-to-many\n",
      "lan2 own2 many-to-many\n",
      "lan2 own3 many-to-many\n",
      "lan2 own4 many-to-many\n",
      "lan2 lab1 many-to-many\n",
      "lan2 lab2 many-to-many\n",
      "lan2 lab3 many-to-many\n",
      "lan2 vacancy_rate many-to-many\n",
      "lan2 walk_score_comm many-to-many\n",
      "lan2 transit_score_comm many-to-many\n",
      "lan2 bike_score_comm many-to-many\n",
      "lan2 comm_polulation many-to-many\n",
      "inc1 Unnamed: 0 many-to-one\n",
      "inc1 ADDRESS many-to-many\n",
      "inc1 ASSESSED_VALUE many-to-many\n",
      "inc1 COMM_CODE many-to-many\n",
      "inc1 COMM_NAME many-to-many\n",
      "inc1 LATITUDE many-to-many\n",
      "inc1 LONGITUDE many-to-many\n",
      "inc1 ROLL_NUMBER many-to-many\n",
      "inc1 Year many-to-many\n",
      "inc1 location many-to-many\n",
      "inc1 fsa many-to-many\n",
      "inc1 pct_change many-to-many\n",
      "inc1 YEAR_OF_CONSTRUCTION many-to-many\n",
      "inc1 saf1 many-to-many\n",
      "inc1 saf2 many-to-many\n",
      "inc1 saf3 many-to-many\n",
      "inc1 saf4 many-to-many\n",
      "inc1 saf5 many-to-many\n",
      "inc1 saf6 many-to-many\n",
      "inc1 saf7 many-to-many\n",
      "inc1 saf8 many-to-many\n",
      "inc1 mr5y many-to-many\n",
      "inc1 Inflation many-to-many\n",
      "inc1 pop1 many-to-many\n",
      "inc1 pop2 many-to-many\n",
      "inc1 pop3 many-to-many\n",
      "inc1 pop4 many-to-many\n",
      "inc1 pop5 many-to-many\n",
      "inc1 pop6 many-to-many\n",
      "inc1 lan1 many-to-many\n",
      "inc1 lan2 many-to-many\n",
      "inc1 inc2 many-to-many\n",
      "inc1 inc3 many-to-many\n",
      "inc1 inc4 many-to-many\n",
      "inc1 own1 many-to-many\n",
      "inc1 own2 many-to-many\n",
      "inc1 own3 many-to-many\n",
      "inc1 own4 many-to-many\n",
      "inc1 lab1 many-to-many\n",
      "inc1 lab2 many-to-many\n",
      "inc1 lab3 many-to-many\n",
      "inc1 vacancy_rate many-to-many\n",
      "inc1 walk_score_comm many-to-many\n",
      "inc1 transit_score_comm many-to-many\n",
      "inc1 bike_score_comm many-to-many\n",
      "inc1 comm_polulation many-to-many\n",
      "inc2 Unnamed: 0 many-to-one\n",
      "inc2 ADDRESS many-to-many\n",
      "inc2 ASSESSED_VALUE many-to-many\n",
      "inc2 COMM_CODE many-to-many\n",
      "inc2 COMM_NAME many-to-many\n",
      "inc2 LATITUDE many-to-many\n",
      "inc2 LONGITUDE many-to-many\n",
      "inc2 ROLL_NUMBER many-to-many\n",
      "inc2 Year many-to-many\n",
      "inc2 location many-to-many\n",
      "inc2 fsa many-to-many\n",
      "inc2 pct_change many-to-many\n",
      "inc2 YEAR_OF_CONSTRUCTION many-to-many\n",
      "inc2 saf1 many-to-many\n",
      "inc2 saf2 many-to-many\n",
      "inc2 saf3 many-to-many\n",
      "inc2 saf4 many-to-many\n",
      "inc2 saf5 many-to-many\n",
      "inc2 saf6 many-to-many\n",
      "inc2 saf7 many-to-many\n",
      "inc2 saf8 many-to-many\n",
      "inc2 mr5y many-to-many\n",
      "inc2 Inflation many-to-many\n",
      "inc2 pop1 many-to-many\n",
      "inc2 pop2 many-to-many\n",
      "inc2 pop3 many-to-many\n",
      "inc2 pop4 many-to-many\n",
      "inc2 pop5 many-to-many\n",
      "inc2 pop6 many-to-many\n",
      "inc2 lan1 many-to-many\n",
      "inc2 lan2 many-to-many\n",
      "inc2 inc1 many-to-many\n",
      "inc2 inc3 many-to-many\n",
      "inc2 inc4 many-to-many\n",
      "inc2 own1 many-to-many\n",
      "inc2 own2 many-to-many\n",
      "inc2 own3 many-to-many\n",
      "inc2 own4 many-to-many\n",
      "inc2 lab1 many-to-many\n",
      "inc2 lab2 many-to-many\n",
      "inc2 lab3 many-to-many\n",
      "inc2 vacancy_rate many-to-many\n",
      "inc2 walk_score_comm many-to-many\n",
      "inc2 transit_score_comm many-to-many\n",
      "inc2 bike_score_comm many-to-many\n",
      "inc2 comm_polulation many-to-many\n",
      "inc3 Unnamed: 0 many-to-one\n",
      "inc3 ADDRESS many-to-many\n",
      "inc3 ASSESSED_VALUE many-to-many\n",
      "inc3 COMM_CODE many-to-many\n",
      "inc3 COMM_NAME many-to-many\n",
      "inc3 LATITUDE many-to-many\n",
      "inc3 LONGITUDE many-to-many\n",
      "inc3 ROLL_NUMBER many-to-many\n",
      "inc3 Year many-to-many\n",
      "inc3 location many-to-many\n",
      "inc3 fsa many-to-many\n",
      "inc3 pct_change many-to-many\n",
      "inc3 YEAR_OF_CONSTRUCTION many-to-many\n",
      "inc3 saf1 many-to-many\n",
      "inc3 saf2 many-to-many\n",
      "inc3 saf3 many-to-many\n",
      "inc3 saf4 many-to-many\n",
      "inc3 saf5 many-to-many\n",
      "inc3 saf6 many-to-many\n",
      "inc3 saf7 many-to-many\n",
      "inc3 saf8 many-to-many\n",
      "inc3 mr5y many-to-many\n",
      "inc3 Inflation many-to-many\n",
      "inc3 pop1 many-to-many\n",
      "inc3 pop2 many-to-many\n",
      "inc3 pop3 many-to-many\n",
      "inc3 pop4 many-to-many\n",
      "inc3 pop5 many-to-many\n",
      "inc3 pop6 many-to-many\n",
      "inc3 lan1 many-to-many\n",
      "inc3 lan2 many-to-many\n",
      "inc3 inc1 many-to-many\n",
      "inc3 inc2 many-to-many\n",
      "inc3 inc4 many-to-many\n",
      "inc3 own1 many-to-many\n",
      "inc3 own2 many-to-many\n",
      "inc3 own3 many-to-many\n",
      "inc3 own4 many-to-many\n",
      "inc3 lab1 many-to-many\n",
      "inc3 lab2 many-to-many\n",
      "inc3 lab3 many-to-many\n",
      "inc3 vacancy_rate many-to-many\n",
      "inc3 walk_score_comm many-to-many\n",
      "inc3 transit_score_comm many-to-many\n",
      "inc3 bike_score_comm many-to-many\n",
      "inc3 comm_polulation many-to-many\n",
      "inc4 Unnamed: 0 many-to-one\n",
      "inc4 ADDRESS many-to-many\n",
      "inc4 ASSESSED_VALUE many-to-many\n",
      "inc4 COMM_CODE many-to-many\n",
      "inc4 COMM_NAME many-to-many\n",
      "inc4 LATITUDE many-to-many\n",
      "inc4 LONGITUDE many-to-many\n",
      "inc4 ROLL_NUMBER many-to-many\n",
      "inc4 Year many-to-many\n",
      "inc4 location many-to-many\n",
      "inc4 fsa many-to-many\n",
      "inc4 pct_change many-to-many\n",
      "inc4 YEAR_OF_CONSTRUCTION many-to-many\n",
      "inc4 saf1 many-to-many\n",
      "inc4 saf2 many-to-many\n",
      "inc4 saf3 many-to-many\n",
      "inc4 saf4 many-to-many\n",
      "inc4 saf5 many-to-many\n",
      "inc4 saf6 many-to-many\n",
      "inc4 saf7 many-to-many\n",
      "inc4 saf8 many-to-many\n",
      "inc4 mr5y many-to-many\n",
      "inc4 Inflation many-to-many\n",
      "inc4 pop1 many-to-many\n",
      "inc4 pop2 many-to-many\n",
      "inc4 pop3 many-to-many\n",
      "inc4 pop4 many-to-many\n",
      "inc4 pop5 many-to-many\n",
      "inc4 pop6 many-to-many\n",
      "inc4 lan1 many-to-many\n",
      "inc4 lan2 many-to-many\n",
      "inc4 inc1 many-to-many\n",
      "inc4 inc2 many-to-many\n",
      "inc4 inc3 many-to-many\n",
      "inc4 own1 many-to-many\n",
      "inc4 own2 many-to-many\n",
      "inc4 own3 many-to-many\n",
      "inc4 own4 many-to-many\n",
      "inc4 lab1 many-to-many\n",
      "inc4 lab2 many-to-many\n",
      "inc4 lab3 many-to-many\n",
      "inc4 vacancy_rate many-to-many\n",
      "inc4 walk_score_comm many-to-many\n",
      "inc4 transit_score_comm many-to-many\n",
      "inc4 bike_score_comm many-to-many\n",
      "inc4 comm_polulation many-to-many\n",
      "own1 Unnamed: 0 many-to-one\n",
      "own1 ADDRESS many-to-many\n",
      "own1 ASSESSED_VALUE many-to-many\n",
      "own1 COMM_CODE many-to-many\n",
      "own1 COMM_NAME many-to-many\n",
      "own1 LATITUDE many-to-many\n",
      "own1 LONGITUDE many-to-many\n",
      "own1 ROLL_NUMBER many-to-many\n",
      "own1 Year many-to-many\n",
      "own1 location many-to-many\n",
      "own1 fsa many-to-many\n",
      "own1 pct_change many-to-many\n",
      "own1 YEAR_OF_CONSTRUCTION many-to-many\n",
      "own1 saf1 many-to-many\n",
      "own1 saf2 many-to-many\n",
      "own1 saf3 many-to-many\n",
      "own1 saf4 many-to-many\n",
      "own1 saf5 many-to-many\n",
      "own1 saf6 many-to-many\n",
      "own1 saf7 many-to-many\n",
      "own1 saf8 many-to-many\n",
      "own1 mr5y many-to-many\n",
      "own1 Inflation many-to-many\n",
      "own1 pop1 many-to-many\n",
      "own1 pop2 many-to-many\n",
      "own1 pop3 many-to-many\n",
      "own1 pop4 many-to-many\n",
      "own1 pop5 many-to-many\n",
      "own1 pop6 many-to-many\n",
      "own1 lan1 many-to-many\n",
      "own1 lan2 many-to-many\n",
      "own1 inc1 many-to-many\n",
      "own1 inc2 many-to-many\n",
      "own1 inc3 many-to-many\n",
      "own1 inc4 many-to-many\n",
      "own1 own2 many-to-many\n",
      "own1 own3 many-to-many\n",
      "own1 own4 many-to-many\n",
      "own1 lab1 many-to-many\n",
      "own1 lab2 many-to-many\n",
      "own1 lab3 many-to-many\n",
      "own1 vacancy_rate many-to-many\n",
      "own1 walk_score_comm many-to-many\n",
      "own1 transit_score_comm many-to-many\n",
      "own1 bike_score_comm many-to-many\n",
      "own1 comm_polulation many-to-many\n",
      "own2 Unnamed: 0 many-to-one\n",
      "own2 ADDRESS many-to-many\n",
      "own2 ASSESSED_VALUE many-to-many\n",
      "own2 COMM_CODE many-to-many\n",
      "own2 COMM_NAME many-to-many\n",
      "own2 LATITUDE many-to-many\n",
      "own2 LONGITUDE many-to-many\n",
      "own2 ROLL_NUMBER many-to-many\n",
      "own2 Year many-to-many\n",
      "own2 location many-to-many\n",
      "own2 fsa many-to-many\n",
      "own2 pct_change many-to-many\n",
      "own2 YEAR_OF_CONSTRUCTION many-to-many\n",
      "own2 saf1 many-to-many\n",
      "own2 saf2 many-to-many\n",
      "own2 saf3 many-to-many\n",
      "own2 saf4 many-to-many\n",
      "own2 saf5 many-to-many\n",
      "own2 saf6 many-to-many\n",
      "own2 saf7 many-to-many\n",
      "own2 saf8 many-to-many\n",
      "own2 mr5y many-to-many\n",
      "own2 Inflation many-to-many\n",
      "own2 pop1 many-to-many\n",
      "own2 pop2 many-to-many\n",
      "own2 pop3 many-to-many\n",
      "own2 pop4 many-to-many\n",
      "own2 pop5 many-to-many\n",
      "own2 pop6 many-to-many\n",
      "own2 lan1 many-to-many\n",
      "own2 lan2 many-to-many\n",
      "own2 inc1 many-to-many\n",
      "own2 inc2 many-to-many\n",
      "own2 inc3 many-to-many\n",
      "own2 inc4 many-to-many\n",
      "own2 own1 many-to-many\n",
      "own2 own3 many-to-many\n",
      "own2 own4 many-to-many\n",
      "own2 lab1 many-to-many\n",
      "own2 lab2 many-to-many\n",
      "own2 lab3 many-to-many\n",
      "own2 vacancy_rate many-to-many\n",
      "own2 walk_score_comm many-to-many\n",
      "own2 transit_score_comm many-to-many\n",
      "own2 bike_score_comm many-to-many\n",
      "own2 comm_polulation many-to-many\n",
      "own3 Unnamed: 0 many-to-one\n",
      "own3 ADDRESS many-to-many\n",
      "own3 ASSESSED_VALUE many-to-many\n",
      "own3 COMM_CODE many-to-many\n",
      "own3 COMM_NAME many-to-many\n",
      "own3 LATITUDE many-to-many\n",
      "own3 LONGITUDE many-to-many\n",
      "own3 ROLL_NUMBER many-to-many\n",
      "own3 Year many-to-many\n",
      "own3 location many-to-many\n",
      "own3 fsa many-to-many\n",
      "own3 pct_change many-to-many\n",
      "own3 YEAR_OF_CONSTRUCTION many-to-many\n",
      "own3 saf1 many-to-many\n",
      "own3 saf2 many-to-many\n",
      "own3 saf3 many-to-many\n",
      "own3 saf4 many-to-many\n",
      "own3 saf5 many-to-many\n",
      "own3 saf6 many-to-many\n",
      "own3 saf7 many-to-many\n",
      "own3 saf8 many-to-many\n",
      "own3 mr5y many-to-many\n",
      "own3 Inflation many-to-many\n",
      "own3 pop1 many-to-many\n",
      "own3 pop2 many-to-many\n",
      "own3 pop3 many-to-many\n",
      "own3 pop4 many-to-many\n",
      "own3 pop5 many-to-many\n",
      "own3 pop6 many-to-many\n",
      "own3 lan1 many-to-many\n",
      "own3 lan2 many-to-many\n",
      "own3 inc1 many-to-many\n",
      "own3 inc2 many-to-many\n",
      "own3 inc3 many-to-many\n",
      "own3 inc4 many-to-many\n",
      "own3 own1 many-to-many\n",
      "own3 own2 many-to-many\n",
      "own3 own4 many-to-many\n",
      "own3 lab1 many-to-many\n",
      "own3 lab2 many-to-many\n",
      "own3 lab3 many-to-many\n",
      "own3 vacancy_rate many-to-many\n",
      "own3 walk_score_comm many-to-many\n",
      "own3 transit_score_comm many-to-many\n",
      "own3 bike_score_comm many-to-many\n",
      "own3 comm_polulation many-to-many\n",
      "own4 Unnamed: 0 many-to-one\n",
      "own4 ADDRESS many-to-many\n",
      "own4 ASSESSED_VALUE many-to-many\n",
      "own4 COMM_CODE many-to-many\n",
      "own4 COMM_NAME many-to-many\n",
      "own4 LATITUDE many-to-many\n",
      "own4 LONGITUDE many-to-many\n",
      "own4 ROLL_NUMBER many-to-many\n",
      "own4 Year many-to-many\n",
      "own4 location many-to-many\n",
      "own4 fsa many-to-many\n",
      "own4 pct_change many-to-many\n",
      "own4 YEAR_OF_CONSTRUCTION many-to-many\n",
      "own4 saf1 many-to-many\n",
      "own4 saf2 many-to-many\n",
      "own4 saf3 many-to-many\n",
      "own4 saf4 many-to-many\n",
      "own4 saf5 many-to-many\n",
      "own4 saf6 many-to-many\n",
      "own4 saf7 many-to-many\n",
      "own4 saf8 many-to-many\n",
      "own4 mr5y many-to-many\n",
      "own4 Inflation many-to-many\n",
      "own4 pop1 many-to-many\n",
      "own4 pop2 many-to-many\n",
      "own4 pop3 many-to-many\n",
      "own4 pop4 many-to-many\n",
      "own4 pop5 many-to-many\n",
      "own4 pop6 many-to-many\n",
      "own4 lan1 many-to-many\n",
      "own4 lan2 many-to-many\n",
      "own4 inc1 many-to-many\n",
      "own4 inc2 many-to-many\n",
      "own4 inc3 many-to-many\n",
      "own4 inc4 many-to-many\n",
      "own4 own1 many-to-many\n",
      "own4 own2 many-to-many\n",
      "own4 own3 many-to-many\n",
      "own4 lab1 many-to-many\n",
      "own4 lab2 many-to-many\n",
      "own4 lab3 many-to-many\n",
      "own4 vacancy_rate many-to-many\n",
      "own4 walk_score_comm many-to-many\n",
      "own4 transit_score_comm many-to-many\n",
      "own4 bike_score_comm many-to-many\n",
      "own4 comm_polulation many-to-many\n",
      "lab1 Unnamed: 0 many-to-one\n",
      "lab1 ADDRESS many-to-many\n",
      "lab1 ASSESSED_VALUE many-to-many\n",
      "lab1 COMM_CODE many-to-many\n",
      "lab1 COMM_NAME many-to-many\n",
      "lab1 LATITUDE many-to-many\n",
      "lab1 LONGITUDE many-to-many\n",
      "lab1 ROLL_NUMBER many-to-many\n",
      "lab1 Year many-to-many\n",
      "lab1 location many-to-many\n",
      "lab1 fsa many-to-many\n",
      "lab1 pct_change many-to-many\n",
      "lab1 YEAR_OF_CONSTRUCTION many-to-many\n",
      "lab1 saf1 many-to-many\n",
      "lab1 saf2 many-to-many\n",
      "lab1 saf3 many-to-many\n",
      "lab1 saf4 many-to-many\n",
      "lab1 saf5 many-to-many\n",
      "lab1 saf6 many-to-many\n",
      "lab1 saf7 many-to-many\n",
      "lab1 saf8 many-to-many\n",
      "lab1 mr5y many-to-many\n",
      "lab1 Inflation many-to-many\n",
      "lab1 pop1 many-to-many\n",
      "lab1 pop2 many-to-many\n",
      "lab1 pop3 many-to-many\n",
      "lab1 pop4 many-to-many\n",
      "lab1 pop5 many-to-many\n",
      "lab1 pop6 many-to-many\n",
      "lab1 lan1 many-to-many\n",
      "lab1 lan2 many-to-many\n",
      "lab1 inc1 many-to-many\n",
      "lab1 inc2 many-to-many\n",
      "lab1 inc3 many-to-many\n",
      "lab1 inc4 many-to-many\n",
      "lab1 own1 many-to-many\n",
      "lab1 own2 many-to-many\n",
      "lab1 own3 many-to-many\n",
      "lab1 own4 many-to-many\n",
      "lab1 lab2 many-to-many\n",
      "lab1 lab3 many-to-many\n",
      "lab1 vacancy_rate many-to-many\n",
      "lab1 walk_score_comm many-to-many\n",
      "lab1 transit_score_comm many-to-many\n",
      "lab1 bike_score_comm many-to-many\n",
      "lab1 comm_polulation many-to-many\n",
      "lab2 Unnamed: 0 many-to-one\n",
      "lab2 ADDRESS many-to-many\n",
      "lab2 ASSESSED_VALUE many-to-many\n",
      "lab2 COMM_CODE many-to-many\n",
      "lab2 COMM_NAME many-to-many\n",
      "lab2 LATITUDE many-to-many\n",
      "lab2 LONGITUDE many-to-many\n",
      "lab2 ROLL_NUMBER many-to-many\n",
      "lab2 Year many-to-many\n",
      "lab2 location many-to-many\n",
      "lab2 fsa many-to-many\n",
      "lab2 pct_change many-to-many\n",
      "lab2 YEAR_OF_CONSTRUCTION many-to-many\n",
      "lab2 saf1 many-to-many\n",
      "lab2 saf2 many-to-many\n",
      "lab2 saf3 many-to-many\n",
      "lab2 saf4 many-to-many\n",
      "lab2 saf5 many-to-many\n",
      "lab2 saf6 many-to-many\n",
      "lab2 saf7 many-to-many\n",
      "lab2 saf8 many-to-many\n",
      "lab2 mr5y many-to-many\n",
      "lab2 Inflation many-to-many\n",
      "lab2 pop1 many-to-many\n",
      "lab2 pop2 many-to-many\n",
      "lab2 pop3 many-to-many\n",
      "lab2 pop4 many-to-many\n",
      "lab2 pop5 many-to-many\n",
      "lab2 pop6 many-to-many\n",
      "lab2 lan1 many-to-many\n",
      "lab2 lan2 many-to-many\n",
      "lab2 inc1 many-to-many\n",
      "lab2 inc2 many-to-many\n",
      "lab2 inc3 many-to-many\n",
      "lab2 inc4 many-to-many\n",
      "lab2 own1 many-to-many\n",
      "lab2 own2 many-to-many\n",
      "lab2 own3 many-to-many\n",
      "lab2 own4 many-to-many\n",
      "lab2 lab1 many-to-many\n",
      "lab2 lab3 many-to-many\n",
      "lab2 vacancy_rate many-to-many\n",
      "lab2 walk_score_comm many-to-many\n",
      "lab2 transit_score_comm many-to-many\n",
      "lab2 bike_score_comm many-to-many\n",
      "lab2 comm_polulation many-to-many\n",
      "lab3 Unnamed: 0 many-to-one\n",
      "lab3 ADDRESS many-to-many\n",
      "lab3 ASSESSED_VALUE many-to-many\n",
      "lab3 COMM_CODE many-to-many\n",
      "lab3 COMM_NAME many-to-many\n",
      "lab3 LATITUDE many-to-many\n",
      "lab3 LONGITUDE many-to-many\n",
      "lab3 ROLL_NUMBER many-to-many\n",
      "lab3 Year many-to-many\n",
      "lab3 location many-to-many\n",
      "lab3 fsa many-to-many\n",
      "lab3 pct_change many-to-many\n",
      "lab3 YEAR_OF_CONSTRUCTION many-to-many\n",
      "lab3 saf1 many-to-many\n",
      "lab3 saf2 many-to-many\n",
      "lab3 saf3 many-to-many\n",
      "lab3 saf4 many-to-many\n",
      "lab3 saf5 many-to-many\n",
      "lab3 saf6 many-to-many\n",
      "lab3 saf7 many-to-many\n",
      "lab3 saf8 many-to-many\n",
      "lab3 mr5y many-to-many\n",
      "lab3 Inflation many-to-many\n",
      "lab3 pop1 many-to-many\n",
      "lab3 pop2 many-to-many\n",
      "lab3 pop3 many-to-many\n",
      "lab3 pop4 many-to-many\n",
      "lab3 pop5 many-to-many\n",
      "lab3 pop6 many-to-many\n",
      "lab3 lan1 many-to-many\n",
      "lab3 lan2 many-to-many\n",
      "lab3 inc1 many-to-many\n",
      "lab3 inc2 many-to-many\n",
      "lab3 inc3 many-to-many\n",
      "lab3 inc4 many-to-many\n",
      "lab3 own1 many-to-many\n",
      "lab3 own2 many-to-many\n",
      "lab3 own3 many-to-many\n",
      "lab3 own4 many-to-many\n",
      "lab3 lab1 many-to-many\n",
      "lab3 lab2 many-to-many\n",
      "lab3 vacancy_rate many-to-many\n",
      "lab3 walk_score_comm many-to-many\n",
      "lab3 transit_score_comm many-to-many\n",
      "lab3 bike_score_comm many-to-many\n",
      "lab3 comm_polulation many-to-many\n",
      "vacancy_rate Unnamed: 0 many-to-one\n",
      "vacancy_rate ADDRESS many-to-many\n",
      "vacancy_rate ASSESSED_VALUE many-to-many\n",
      "vacancy_rate COMM_CODE many-to-many\n",
      "vacancy_rate COMM_NAME many-to-many\n",
      "vacancy_rate LATITUDE many-to-many\n",
      "vacancy_rate LONGITUDE many-to-many\n",
      "vacancy_rate ROLL_NUMBER many-to-many\n",
      "vacancy_rate Year many-to-many\n",
      "vacancy_rate location many-to-many\n",
      "vacancy_rate fsa many-to-many\n",
      "vacancy_rate pct_change many-to-many\n",
      "vacancy_rate YEAR_OF_CONSTRUCTION many-to-many\n",
      "vacancy_rate saf1 many-to-many\n",
      "vacancy_rate saf2 many-to-many\n",
      "vacancy_rate saf3 many-to-many\n",
      "vacancy_rate saf4 many-to-many\n",
      "vacancy_rate saf5 many-to-many\n",
      "vacancy_rate saf6 many-to-many\n",
      "vacancy_rate saf7 many-to-many\n",
      "vacancy_rate saf8 many-to-many\n",
      "vacancy_rate mr5y many-to-many\n",
      "vacancy_rate Inflation many-to-many\n",
      "vacancy_rate pop1 many-to-many\n",
      "vacancy_rate pop2 many-to-many\n",
      "vacancy_rate pop3 many-to-many\n",
      "vacancy_rate pop4 many-to-many\n",
      "vacancy_rate pop5 many-to-many\n",
      "vacancy_rate pop6 many-to-many\n",
      "vacancy_rate lan1 many-to-many\n",
      "vacancy_rate lan2 many-to-many\n",
      "vacancy_rate inc1 many-to-many\n",
      "vacancy_rate inc2 many-to-many\n",
      "vacancy_rate inc3 many-to-many\n",
      "vacancy_rate inc4 many-to-many\n",
      "vacancy_rate own1 many-to-many\n",
      "vacancy_rate own2 many-to-many\n",
      "vacancy_rate own3 many-to-many\n",
      "vacancy_rate own4 many-to-many\n",
      "vacancy_rate lab1 many-to-many\n",
      "vacancy_rate lab2 many-to-many\n",
      "vacancy_rate lab3 many-to-many\n",
      "vacancy_rate walk_score_comm many-to-many\n",
      "vacancy_rate transit_score_comm many-to-many\n",
      "vacancy_rate bike_score_comm many-to-many\n",
      "vacancy_rate comm_polulation many-to-many\n",
      "walk_score_comm Unnamed: 0 many-to-one\n",
      "walk_score_comm ADDRESS many-to-many\n",
      "walk_score_comm ASSESSED_VALUE many-to-many\n",
      "walk_score_comm COMM_CODE many-to-many\n",
      "walk_score_comm COMM_NAME many-to-many\n",
      "walk_score_comm LATITUDE many-to-many\n",
      "walk_score_comm LONGITUDE many-to-many\n",
      "walk_score_comm ROLL_NUMBER many-to-many\n",
      "walk_score_comm Year many-to-many\n",
      "walk_score_comm location many-to-many\n",
      "walk_score_comm fsa many-to-many\n",
      "walk_score_comm pct_change many-to-many\n",
      "walk_score_comm YEAR_OF_CONSTRUCTION many-to-many\n",
      "walk_score_comm saf1 many-to-many\n",
      "walk_score_comm saf2 many-to-many\n",
      "walk_score_comm saf3 many-to-many\n",
      "walk_score_comm saf4 many-to-many\n",
      "walk_score_comm saf5 many-to-many\n",
      "walk_score_comm saf6 many-to-many\n",
      "walk_score_comm saf7 many-to-many\n",
      "walk_score_comm saf8 many-to-many\n",
      "walk_score_comm mr5y many-to-many\n",
      "walk_score_comm Inflation many-to-many\n",
      "walk_score_comm pop1 many-to-many\n",
      "walk_score_comm pop2 many-to-many\n",
      "walk_score_comm pop3 many-to-many\n",
      "walk_score_comm pop4 many-to-many\n",
      "walk_score_comm pop5 many-to-many\n",
      "walk_score_comm pop6 many-to-many\n",
      "walk_score_comm lan1 many-to-many\n",
      "walk_score_comm lan2 many-to-many\n",
      "walk_score_comm inc1 many-to-many\n",
      "walk_score_comm inc2 many-to-many\n",
      "walk_score_comm inc3 many-to-many\n",
      "walk_score_comm inc4 many-to-many\n",
      "walk_score_comm own1 many-to-many\n",
      "walk_score_comm own2 many-to-many\n",
      "walk_score_comm own3 many-to-many\n",
      "walk_score_comm own4 many-to-many\n",
      "walk_score_comm lab1 many-to-many\n",
      "walk_score_comm lab2 many-to-many\n",
      "walk_score_comm lab3 many-to-many\n",
      "walk_score_comm vacancy_rate many-to-many\n",
      "walk_score_comm transit_score_comm many-to-many\n",
      "walk_score_comm bike_score_comm many-to-many\n",
      "walk_score_comm comm_polulation many-to-many\n",
      "transit_score_comm Unnamed: 0 many-to-one\n",
      "transit_score_comm ADDRESS many-to-many\n",
      "transit_score_comm ASSESSED_VALUE many-to-many\n",
      "transit_score_comm COMM_CODE many-to-many\n",
      "transit_score_comm COMM_NAME many-to-many\n",
      "transit_score_comm LATITUDE many-to-many\n",
      "transit_score_comm LONGITUDE many-to-many\n",
      "transit_score_comm ROLL_NUMBER many-to-many\n",
      "transit_score_comm Year many-to-many\n",
      "transit_score_comm location many-to-many\n",
      "transit_score_comm fsa many-to-many\n",
      "transit_score_comm pct_change many-to-many\n",
      "transit_score_comm YEAR_OF_CONSTRUCTION many-to-many\n",
      "transit_score_comm saf1 many-to-many\n",
      "transit_score_comm saf2 many-to-many\n",
      "transit_score_comm saf3 many-to-many\n",
      "transit_score_comm saf4 many-to-many\n",
      "transit_score_comm saf5 many-to-many\n",
      "transit_score_comm saf6 many-to-many\n",
      "transit_score_comm saf7 many-to-many\n",
      "transit_score_comm saf8 many-to-many\n",
      "transit_score_comm mr5y many-to-many\n",
      "transit_score_comm Inflation many-to-many\n",
      "transit_score_comm pop1 many-to-many\n",
      "transit_score_comm pop2 many-to-many\n",
      "transit_score_comm pop3 many-to-many\n",
      "transit_score_comm pop4 many-to-many\n",
      "transit_score_comm pop5 many-to-many\n",
      "transit_score_comm pop6 many-to-many\n",
      "transit_score_comm lan1 many-to-many\n",
      "transit_score_comm lan2 many-to-many\n",
      "transit_score_comm inc1 many-to-many\n",
      "transit_score_comm inc2 many-to-many\n",
      "transit_score_comm inc3 many-to-many\n",
      "transit_score_comm inc4 many-to-many\n",
      "transit_score_comm own1 many-to-many\n",
      "transit_score_comm own2 many-to-many\n",
      "transit_score_comm own3 many-to-many\n",
      "transit_score_comm own4 many-to-many\n",
      "transit_score_comm lab1 many-to-many\n",
      "transit_score_comm lab2 many-to-many\n",
      "transit_score_comm lab3 many-to-many\n",
      "transit_score_comm vacancy_rate many-to-many\n",
      "transit_score_comm walk_score_comm many-to-many\n",
      "transit_score_comm bike_score_comm many-to-many\n",
      "transit_score_comm comm_polulation many-to-many\n",
      "bike_score_comm Unnamed: 0 many-to-one\n",
      "bike_score_comm ADDRESS many-to-many\n",
      "bike_score_comm ASSESSED_VALUE many-to-many\n",
      "bike_score_comm COMM_CODE many-to-many\n",
      "bike_score_comm COMM_NAME many-to-many\n",
      "bike_score_comm LATITUDE many-to-many\n",
      "bike_score_comm LONGITUDE many-to-many\n",
      "bike_score_comm ROLL_NUMBER many-to-many\n",
      "bike_score_comm Year many-to-many\n",
      "bike_score_comm location many-to-many\n",
      "bike_score_comm fsa many-to-many\n",
      "bike_score_comm pct_change many-to-many\n",
      "bike_score_comm YEAR_OF_CONSTRUCTION many-to-many\n",
      "bike_score_comm saf1 many-to-many\n",
      "bike_score_comm saf2 many-to-many\n",
      "bike_score_comm saf3 many-to-many\n",
      "bike_score_comm saf4 many-to-many\n",
      "bike_score_comm saf5 many-to-many\n",
      "bike_score_comm saf6 many-to-many\n",
      "bike_score_comm saf7 many-to-many\n",
      "bike_score_comm saf8 many-to-many\n",
      "bike_score_comm mr5y many-to-many\n",
      "bike_score_comm Inflation many-to-many\n",
      "bike_score_comm pop1 many-to-many\n",
      "bike_score_comm pop2 many-to-many\n",
      "bike_score_comm pop3 many-to-many\n",
      "bike_score_comm pop4 many-to-many\n",
      "bike_score_comm pop5 many-to-many\n",
      "bike_score_comm pop6 many-to-many\n",
      "bike_score_comm lan1 many-to-many\n",
      "bike_score_comm lan2 many-to-many\n",
      "bike_score_comm inc1 many-to-many\n",
      "bike_score_comm inc2 many-to-many\n",
      "bike_score_comm inc3 many-to-many\n",
      "bike_score_comm inc4 many-to-many\n",
      "bike_score_comm own1 many-to-many\n",
      "bike_score_comm own2 many-to-many\n",
      "bike_score_comm own3 many-to-many\n",
      "bike_score_comm own4 many-to-many\n",
      "bike_score_comm lab1 many-to-many\n",
      "bike_score_comm lab2 many-to-many\n",
      "bike_score_comm lab3 many-to-many\n",
      "bike_score_comm vacancy_rate many-to-many\n",
      "bike_score_comm walk_score_comm many-to-many\n",
      "bike_score_comm transit_score_comm many-to-many\n",
      "bike_score_comm comm_polulation many-to-many\n",
      "comm_polulation Unnamed: 0 many-to-one\n",
      "comm_polulation ADDRESS many-to-many\n",
      "comm_polulation ASSESSED_VALUE many-to-many\n",
      "comm_polulation COMM_CODE many-to-many\n",
      "comm_polulation COMM_NAME many-to-many\n",
      "comm_polulation LATITUDE many-to-many\n",
      "comm_polulation LONGITUDE many-to-many\n",
      "comm_polulation ROLL_NUMBER many-to-many\n",
      "comm_polulation Year many-to-many\n",
      "comm_polulation location many-to-many\n",
      "comm_polulation fsa many-to-many\n",
      "comm_polulation pct_change many-to-many\n",
      "comm_polulation YEAR_OF_CONSTRUCTION many-to-many\n",
      "comm_polulation saf1 many-to-many\n",
      "comm_polulation saf2 many-to-many\n",
      "comm_polulation saf3 many-to-many\n",
      "comm_polulation saf4 many-to-many\n",
      "comm_polulation saf5 many-to-many\n",
      "comm_polulation saf6 many-to-many\n",
      "comm_polulation saf7 many-to-many\n",
      "comm_polulation saf8 many-to-many\n",
      "comm_polulation mr5y many-to-many\n",
      "comm_polulation Inflation many-to-many\n",
      "comm_polulation pop1 many-to-many\n",
      "comm_polulation pop2 many-to-many\n",
      "comm_polulation pop3 many-to-many\n",
      "comm_polulation pop4 many-to-many\n",
      "comm_polulation pop5 many-to-many\n",
      "comm_polulation pop6 many-to-many\n",
      "comm_polulation lan1 many-to-many\n",
      "comm_polulation lan2 many-to-many\n",
      "comm_polulation inc1 many-to-many\n",
      "comm_polulation inc2 many-to-many\n",
      "comm_polulation inc3 many-to-many\n",
      "comm_polulation inc4 many-to-many\n",
      "comm_polulation own1 many-to-many\n",
      "comm_polulation own2 many-to-many\n",
      "comm_polulation own3 many-to-many\n",
      "comm_polulation own4 many-to-many\n",
      "comm_polulation lab1 many-to-many\n",
      "comm_polulation lab2 many-to-many\n",
      "comm_polulation lab3 many-to-many\n",
      "comm_polulation vacancy_rate many-to-many\n",
      "comm_polulation walk_score_comm many-to-many\n",
      "comm_polulation transit_score_comm many-to-many\n",
      "comm_polulation bike_score_comm many-to-many\n"
     ]
    }
   ],
   "source": [
    "def get_relation(df, col1, col2):        \n",
    "    first_max = df[[col1, col2]].groupby(col1).count().max()[0]\n",
    "    second_max = df[[col1, col2]].groupby(col2).count().max()[0]\n",
    "    if first_max==1:\n",
    "        if second_max==1:\n",
    "            return 'one-to-one'\n",
    "        else:\n",
    "            return 'one-to-many'\n",
    "    else:\n",
    "        if second_max==1:\n",
    "            return 'many-to-one'\n",
    "        else:\n",
    "            return 'many-to-many'\n",
    "\n",
    "from itertools import product\n",
    "for col_i, col_j in product(df.columns, df.columns):\n",
    "    if col_i == col_j:\n",
    "        continue\n",
    "    print(col_i, col_j, get_relation(df, col_i, col_j))"
   ]
  },
  {
   "cell_type": "code",
   "execution_count": 4,
   "metadata": {},
   "outputs": [],
   "source": [
    "#df.isnull().values.any()\n"
   ]
  },
  {
   "cell_type": "code",
   "execution_count": 5,
   "metadata": {},
   "outputs": [
    {
     "data": {
      "text/plain": [
       "Index(['Unnamed: 0', 'ADDRESS', 'ASSESSED_VALUE', 'COMM_CODE', 'COMM_NAME',\n",
       "       'LATITUDE', 'LONGITUDE', 'ROLL_NUMBER', 'Year', 'location', 'fsa',\n",
       "       'pct_change', 'YEAR_OF_CONSTRUCTION', 'saf1', 'saf2', 'saf3', 'saf4',\n",
       "       'saf5', 'saf6', 'saf7', 'saf8', 'mr5y', 'Inflation', 'pop1', 'pop2',\n",
       "       'pop3', 'pop4', 'pop5', 'pop6', 'lan1', 'lan2', 'inc1', 'inc2', 'inc3',\n",
       "       'inc4', 'own1', 'own2', 'own3', 'own4', 'lab1', 'lab2', 'lab3',\n",
       "       'vacancy_rate', 'walk_score_comm', 'transit_score_comm',\n",
       "       'bike_score_comm', 'comm_polulation', 'pct_change_bin'],\n",
       "      dtype='object')"
      ]
     },
     "execution_count": 5,
     "metadata": {},
     "output_type": "execute_result"
    }
   ],
   "source": [
    "#df['pct_change_bin']=pd.cut(df['pct_change'], bins=np.linspace(df['pct_change'].quantile(0.025), df['pct_change'].quantile(0.975), 11),labels=range(0,10))\n",
    "#df['pct_change_bin']=pd.cut(df['pct_change'], bins=np.linspace(df['pct_change'].quantile(0.01), df['pct_change'].quantile(0.99), 5),labels=range(0,4))\n",
    "df['pct_change_bin']=pd.cut(df['pct_change'], bins=np.array([-0.12,-0.06, 0,0.06,0.12]),labels=range(0,4))\n",
    "\n",
    "#df['pct_change_bin']=np.sign(df[\"pct_change\"])\n",
    "\n",
    "df=df.dropna()\n",
    "df.keys()"
   ]
  },
  {
   "cell_type": "code",
   "execution_count": 6,
   "metadata": {},
   "outputs": [
    {
     "data": {
      "text/plain": [
       "array([-0.10514698,  0.        ,  0.09435514])"
      ]
     },
     "execution_count": 6,
     "metadata": {},
     "output_type": "execute_result"
    }
   ],
   "source": [
    "#np.sign(df[\"pct_change\"]).unique()\n",
    "#np.array([df['pct_change'].quantile(0.01), 0,df['pct_change'].quantile(0.99)])"
   ]
  },
  {
   "cell_type": "code",
   "execution_count": 7,
   "metadata": {},
   "outputs": [
    {
     "data": {
      "text/plain": [
       "array([-0.10514698, -0.07189662, -0.03864627, -0.00539592,  0.02785444,\n",
       "        0.06110479,  0.09435514])"
      ]
     },
     "execution_count": 7,
     "metadata": {},
     "output_type": "execute_result"
    }
   ],
   "source": [
    "#np.linspace(df['pct_change'].quantile(0.01), df['pct_change'].quantile(0.99), 7)"
   ]
  },
  {
   "cell_type": "code",
   "execution_count": 8,
   "metadata": {},
   "outputs": [],
   "source": [
    "\n",
    "df_num = df.drop(['Unnamed: 0','ADDRESS','COMM_CODE','COMM_NAME','location','fsa','comm_polulation'],axis=1)\n"
   ]
  },
  {
   "cell_type": "code",
   "execution_count": 9,
   "metadata": {},
   "outputs": [],
   "source": [
    "from sklearn import preprocessing\n",
    "x=df_num.drop(['ASSESSED_VALUE','pct_change','Year','pct_change_bin','ROLL_NUMBER'],axis=1).values\n",
    "#min_max_scaler=preprocessing.MinMaxScaler()\n",
    "#x_scaled=min_max_scaler.fit_transform(x)\n",
    "\n",
    "\n",
    "standard_scaler=preprocessing.StandardScaler()\n",
    "x_scaled=standard_scaler.fit_transform(x)\n",
    "\n",
    "\n",
    "df_scaled=pd.DataFrame(x_scaled,columns=df_num.drop(['ASSESSED_VALUE','pct_change','Year','pct_change_bin','ROLL_NUMBER'],axis=1).columns)\n",
    "#df_scaled['ASSESSED_VALUE']=df_num['ASSESSED_VALUE']\n",
    "\n",
    "df_scaled[['ASSESSED_VALUE','pct_change','pct_change_bin']]=df_num[['ASSESSED_VALUE','pct_change','pct_change_bin']]\n",
    "\n",
    "df_scaled=df_scaled.dropna()\n",
    "\n",
    "\n"
   ]
  },
  {
   "cell_type": "code",
   "execution_count": 10,
   "metadata": {},
   "outputs": [],
   "source": [
    "#df_scaled.dropna().shape\n",
    "#df_scaled[['ASSESSED_VALUE','pct_change','Year','pct_change_bin']].isnull().values.any()\n",
    "#df_num[['ASSESSED_VALUE','pct_change','Year','pct_change_bin']].isnull().values.any()\n",
    "#df_scaled.isnull().values.any()"
   ]
  },
  {
   "cell_type": "code",
   "execution_count": 11,
   "metadata": {},
   "outputs": [
    {
     "data": {
      "text/plain": [
       "Text(0, 0.5, 'cumulative explained variance')"
      ]
     },
     "execution_count": 11,
     "metadata": {},
     "output_type": "execute_result"
    },
    {
     "data": {
      "image/png": "[encoded data removed]",
      "text/plain": [
       "<Figure size 432x288 with 1 Axes>"
      ]
     },
     "metadata": {
      "needs_background": "light"
     },
     "output_type": "display_data"
    }
   ],
   "source": [
    "from sklearn.decomposition import PCA\n",
    "pca = PCA().fit(df_scaled.drop(['ASSESSED_VALUE','pct_change','pct_change_bin'],axis=1).values)\n",
    "ratio=np.cumsum(pca.explained_variance_ratio_)\n",
    "plt.plot(ratio)\n",
    "plt.xlabel('number of components')\n",
    "plt.ylabel('cumulative explained variance')"
   ]
  },
  {
   "cell_type": "code",
   "execution_count": 12,
   "metadata": {},
   "outputs": [],
   "source": [
    "df_scaled1=df_num.drop(['Year','ROLL_NUMBER'],axis=1)"
   ]
  },
  {
   "cell_type": "code",
   "execution_count": 13,
   "metadata": {},
   "outputs": [
    {
     "data": {
      "text/plain": [
       "Index(['ASSESSED_VALUE', 'LATITUDE', 'LONGITUDE', 'pct_change',\n",
       "       'YEAR_OF_CONSTRUCTION', 'saf1', 'saf2', 'saf3', 'saf4', 'saf5', 'saf6',\n",
       "       'saf7', 'saf8', 'mr5y', 'Inflation', 'pop1', 'pop2', 'pop3', 'pop4',\n",
       "       'pop5', 'pop6', 'lan1', 'lan2', 'inc1', 'inc2', 'inc3', 'inc4', 'own1',\n",
       "       'own2', 'own3', 'own4', 'lab1', 'lab2', 'lab3', 'vacancy_rate',\n",
       "       'walk_score_comm', 'transit_score_comm', 'bike_score_comm',\n",
       "       'pct_change_bin'],\n",
       "      dtype='object')"
      ]
     },
     "execution_count": 13,
     "metadata": {},
     "output_type": "execute_result"
    }
   ],
   "source": [
    "df_scaled1.keys()"
   ]
  },
  {
   "cell_type": "code",
   "execution_count": 14,
   "metadata": {},
   "outputs": [],
   "source": [
    "df_scaled1['Age']=2020-df_scaled1['YEAR_OF_CONSTRUCTION']\n",
    "df_scaled=df_scaled1.drop(['YEAR_OF_CONSTRUCTION'],axis=1)"
   ]
  },
  {
   "cell_type": "code",
   "execution_count": 15,
   "metadata": {},
   "outputs": [
    {
     "data": {
      "text/plain": [
       "Index(['ASSESSED_VALUE', 'LATITUDE', 'LONGITUDE', 'pct_change', 'saf1', 'saf2',\n",
       "       'saf3', 'saf4', 'saf5', 'saf6', 'saf7', 'saf8', 'mr5y', 'Inflation',\n",
       "       'pop1', 'pop2', 'pop3', 'pop4', 'pop5', 'pop6', 'lan1', 'lan2', 'inc1',\n",
       "       'inc2', 'inc3', 'inc4', 'own1', 'own2', 'own3', 'own4', 'lab1', 'lab2',\n",
       "       'lab3', 'vacancy_rate', 'walk_score_comm', 'transit_score_comm',\n",
       "       'bike_score_comm', 'pct_change_bin', 'Age'],\n",
       "      dtype='object')"
      ]
     },
     "execution_count": 15,
     "metadata": {},
     "output_type": "execute_result"
    }
   ],
   "source": [
    "df_scaled.keys()"
   ]
  },
  {
   "cell_type": "code",
   "execution_count": 16,
   "metadata": {},
   "outputs": [],
   "source": [
    "x_train, x_test, y_train, y_test=train_test_split(df_scaled.drop(['ASSESSED_VALUE','pct_change'],axis=1),df_scaled['pct_change'],test_size=0.2,random_state=0)"
   ]
  },
  {
   "cell_type": "code",
   "execution_count": 17,
   "metadata": {},
   "outputs": [
    {
     "name": "stdout",
     "output_type": "stream",
     "text": [
      "R2 score 0.34553249771304273\n",
      "RMSE 0.03325795962893804\n"
     ]
    }
   ],
   "source": [
    "from sklearn.linear_model import LinearRegression\n",
    "L=LinearRegression()\n",
    "L.fit(x_train.drop(['pct_change_bin'],axis=1),y_train)\n",
    "\n",
    "\n",
    "\n",
    "\n",
    "y_pred1=L.predict(x_test.drop(['pct_change_bin'],axis=1))\n",
    "\n",
    "from sklearn.metrics import r2_score, mean_squared_error\n",
    "\n",
    "print('R2 score', r2_score(y_test,y_pred1))\n",
    "print('RMSE',np.sqrt(mean_squared_error(y_test,y_pred1)))"
   ]
  },
  {
   "cell_type": "code",
   "execution_count": 18,
   "metadata": {},
   "outputs": [
    {
     "name": "stderr",
     "output_type": "stream",
     "text": [
      "/Users/DongyingWang/anaconda3/lib/python3.7/site-packages/sklearn/linear_model/_coordinate_descent.py:531: ConvergenceWarning: Objective did not converge. You might want to increase the number of iterations. Duality gap: 6.91965217045614, tolerance: 0.0019615215316853905\n",
      "  positive)\n"
     ]
    },
    {
     "data": {
      "image/png": "[encoded data removed]",
      "text/plain": [
       "<Figure size 432x288 with 1 Axes>"
      ]
     },
     "metadata": {
      "needs_background": "light"
     },
     "output_type": "display_data"
    }
   ],
   "source": [
    "from sklearn.linear_model import Lasso\n",
    "lasso=Lasso(alpha=0.0001,normalize=False)\n",
    "lasso_coef=lasso.fit(x_train.drop(['pct_change_bin'],axis=1),y_train).coef_\n",
    "_=plt.plot(range(len(x_train.drop(['pct_change_bin'],axis=1).columns)),lasso_coef)\n",
    "names=x_train.drop(['pct_change_bin'],axis=1).columns\n",
    "_=plt.xticks(range(len(names)),names,rotation=60)\n",
    "_=plt.ylabel(\"coefficients\")\n",
    "plt.show()"
   ]
  },
  {
   "cell_type": "code",
   "execution_count": 19,
   "metadata": {},
   "outputs": [],
   "source": [
    "#from sklearn.linear_model import Ridge, RidgeCV, ElasticNet, LassoCV, LassoLarsCV\n",
    "\n",
    "#from sklearn.model_selection import cross_val_score\n",
    "\n",
    "#def rmse_cv(model):\n",
    "#    rmse= np.sqrt(-cross_val_score(model, x_train.drop(['pct_change_bin'],axis=1),y_train, scoring=\"neg_mean_squared_error\", cv = 5))\n",
    "#    return(rmse)\n",
    "\n",
    "#alphas = [0.00001,0.0001,0.001,0.01, 0.1, 1, 10,100,1000]\n",
    "#cv_ridge = [rmse_cv(Ridge(alpha = alpha)).mean() \n",
    "#            for alpha in alphas]\n",
    "\n",
    "#cv_ridge = pd.Series(cv_ridge, index = alphas)\n",
    "#cv_ridge.plot(title = \"Validation\")\n",
    "#plt.xlabel(\"alpha\")\n",
    "##plt.ylabel(\"rmse\")\n",
    "\n",
    "#cv_ridge.min()"
   ]
  },
  {
   "cell_type": "code",
   "execution_count": 20,
   "metadata": {},
   "outputs": [
    {
     "name": "stderr",
     "output_type": "stream",
     "text": [
      "/Users/DongyingWang/anaconda3/lib/python3.7/site-packages/sklearn/linear_model/_coordinate_descent.py:527: ConvergenceWarning: Objective did not converge. You might want to increase the number of iterations. Duality gap: 5.59486232030327, tolerance: 0.001567417447254166\n",
      "  tol, rng, random, positive)\n",
      "/Users/DongyingWang/anaconda3/lib/python3.7/site-packages/sklearn/linear_model/_coordinate_descent.py:527: ConvergenceWarning: Objective did not converge. You might want to increase the number of iterations. Duality gap: 5.556328994601082, tolerance: 0.0015746291192930955\n",
      "  tol, rng, random, positive)\n",
      "/Users/DongyingWang/anaconda3/lib/python3.7/site-packages/sklearn/linear_model/_coordinate_descent.py:527: ConvergenceWarning: Objective did not converge. You might want to increase the number of iterations. Duality gap: 5.430781679101105, tolerance: 0.0015485785864857412\n",
      "  tol, rng, random, positive)\n",
      "/Users/DongyingWang/anaconda3/lib/python3.7/site-packages/sklearn/linear_model/_coordinate_descent.py:527: ConvergenceWarning: Objective did not converge. You might want to increase the number of iterations. Duality gap: 5.528534632709648, tolerance: 0.0015709729382399759\n",
      "  tol, rng, random, positive)\n",
      "/Users/DongyingWang/anaconda3/lib/python3.7/site-packages/sklearn/linear_model/_coordinate_descent.py:527: ConvergenceWarning: Objective did not converge. You might want to increase the number of iterations. Duality gap: 5.557409915612869, tolerance: 0.0015844757528958478\n",
      "  tol, rng, random, positive)\n"
     ]
    },
    {
     "name": "stdout",
     "output_type": "stream",
     "text": [
      "Lasso picked 22 variables and eliminated the other 14 variables\n"
     ]
    },
    {
     "name": "stderr",
     "output_type": "stream",
     "text": [
      "/Users/DongyingWang/anaconda3/lib/python3.7/site-packages/sklearn/linear_model/_coordinate_descent.py:531: ConvergenceWarning: Objective did not converge. You might want to increase the number of iterations. Duality gap: 6.91965217045614, tolerance: 0.0019615215316853905\n",
      "  positive)\n"
     ]
    }
   ],
   "source": [
    "#model_lasso = LassoCV(alphas = [1, 0.1, 0.001, 0.0005]).fit(X_r, y_r)\n",
    "from sklearn.linear_model import Ridge, RidgeCV, ElasticNet, LassoCV, LassoLarsCV\n",
    "model_lasso = LassoCV(alphas = [0.0001]).fit(x_train.drop(['pct_change_bin'],axis=1),y_train)\n",
    "\n",
    "coef_lasso = pd.Series(model_lasso.coef_, index = names)\n",
    "print(\"Lasso picked \" + str(sum(coef_lasso != 0)) + \" variables and eliminated the other \" +  str(sum(coef_lasso == 0)) + \" variables\")"
   ]
  },
  {
   "cell_type": "code",
   "execution_count": 21,
   "metadata": {
    "scrolled": true
   },
   "outputs": [
    {
     "data": {
      "text/plain": [
       "Text(0.5, 1.0, 'Coefficients in the Lasso Model')"
      ]
     },
     "execution_count": 21,
     "metadata": {},
     "output_type": "execute_result"
    },
    {
     "data": {
      "image/png": "[encoded data removed]",
      "text/plain": [
       "<Figure size 576x720 with 1 Axes>"
      ]
     },
     "metadata": {
      "needs_background": "light"
     },
     "output_type": "display_data"
    }
   ],
   "source": [
    "imp_coef = pd.concat([coef_lasso.sort_values().head(10),\n",
    "                     coef_lasso.sort_values().tail(10)])\n",
    "#imp_coef = pd.concat([coef_lasso.sort_values()])\n",
    "plt.rcParams['figure.figsize'] = (8.0, 10.0)\n",
    "imp_coef.plot(kind = \"barh\")\n",
    "plt.title(\"Coefficients in the Lasso Model\")"
   ]
  },
  {
   "cell_type": "code",
   "execution_count": 22,
   "metadata": {},
   "outputs": [
    {
     "data": {
      "text/plain": [
       "<matplotlib.axes._subplots.AxesSubplot at 0x1a22edc6d8>"
      ]
     },
     "execution_count": 22,
     "metadata": {},
     "output_type": "execute_result"
    },
    {
     "data": {
      "image/png": "[encoded data removed]",
      "text/plain": [
       "<Figure size 432x432 with 1 Axes>"
      ]
     },
     "metadata": {
      "needs_background": "light"
     },
     "output_type": "display_data"
    }
   ],
   "source": [
    "plt.rcParams['figure.figsize'] = (6.0, 6.0)\n",
    "\n",
    "preds = pd.DataFrame({\"preds\":model_lasso.predict(x_test.drop(['pct_change_bin'],axis=1)), \"true\":y_test})\n",
    "preds[\"residuals\"] = preds[\"true\"] - preds[\"preds\"]\n",
    "preds.plot(x = \"preds\", y = \"residuals\",kind = \"scatter\")\n",
    "\n",
    "\n"
   ]
  },
  {
   "cell_type": "code",
   "execution_count": 23,
   "metadata": {},
   "outputs": [
    {
     "name": "stdout",
     "output_type": "stream",
     "text": [
      "0.0011478526628535967\n"
     ]
    }
   ],
   "source": [
    "y_pred2 = model_lasso.predict(x_test.drop(['pct_change_bin'],axis=1))           \n",
    "print(mean_squared_error(y_test, y_pred2))    "
   ]
  },
  {
   "cell_type": "code",
   "execution_count": 24,
   "metadata": {
    "scrolled": true
   },
   "outputs": [
    {
     "data": {
      "text/plain": [
       "saf2                 -6.369082e-03\n",
       "saf3                  7.157783e-02\n",
       "saf4                  1.860746e-02\n",
       "mr5y                  8.237652e-02\n",
       "pop1                  2.029648e-07\n",
       "pop2                 -7.289301e-06\n",
       "pop3                  6.478207e-06\n",
       "pop4                 -1.201636e-03\n",
       "inc1                 -4.578193e-07\n",
       "inc2                 -9.778523e-06\n",
       "inc3                  7.253884e-07\n",
       "inc4                 -4.323616e-08\n",
       "own1                  4.272744e-04\n",
       "own2                  3.256804e-04\n",
       "own3                 -5.185906e-04\n",
       "lab1                 -2.185596e-03\n",
       "lab2                 -2.424389e-03\n",
       "vacancy_rate         -3.912406e-04\n",
       "walk_score_comm      -2.579587e-04\n",
       "transit_score_comm   -4.362133e-07\n",
       "bike_score_comm       1.280125e-04\n",
       "Age                   2.791532e-04\n",
       "dtype: float64"
      ]
     },
     "execution_count": 24,
     "metadata": {},
     "output_type": "execute_result"
    }
   ],
   "source": [
    "coef_lasso[coef_lasso!=0]"
   ]
  },
  {
   "cell_type": "code",
   "execution_count": 25,
   "metadata": {},
   "outputs": [
    {
     "name": "stdout",
     "output_type": "stream",
     "text": [
      "Ridge picked 36 variables and eliminated the other 0 variables\n"
     ]
    }
   ],
   "source": [
    "model_Ridge = RidgeCV(alphas = [0.0001]).fit(x_train.drop(['pct_change_bin'],axis=1),y_train)\n",
    "\n",
    "coef_Ridge = pd.Series(model_Ridge.coef_, index = names)\n",
    "print(\"Ridge picked \" + str(sum(coef_Ridge != 0)) + \" variables and eliminated the other \" +  str(sum(coef_Ridge == 0)) + \" variables\")"
   ]
  },
  {
   "cell_type": "code",
   "execution_count": 26,
   "metadata": {},
   "outputs": [
    {
     "data": {
      "text/plain": [
       "Text(0.5, 1.0, 'Coefficients in the Ridge Model')"
      ]
     },
     "execution_count": 26,
     "metadata": {},
     "output_type": "execute_result"
    },
    {
     "data": {
      "image/png": "[encoded data removed]",
      "text/plain": [
       "<Figure size 576x720 with 1 Axes>"
      ]
     },
     "metadata": {
      "needs_background": "light"
     },
     "output_type": "display_data"
    }
   ],
   "source": [
    "imp_coef = pd.concat([coef_Ridge.sort_values()])\n",
    "plt.rcParams['figure.figsize'] = (8.0, 10.0)\n",
    "imp_coef.plot(kind = \"barh\")\n",
    "plt.title(\"Coefficients in the Ridge Model\")"
   ]
  },
  {
   "cell_type": "code",
   "execution_count": 27,
   "metadata": {},
   "outputs": [
    {
     "data": {
      "text/plain": [
       "<matplotlib.axes._subplots.AxesSubplot at 0x1a23268828>"
      ]
     },
     "execution_count": 27,
     "metadata": {},
     "output_type": "execute_result"
    },
    {
     "data": {
      "image/png": "[encoded data removed]",
      "text/plain": [
       "<Figure size 432x432 with 1 Axes>"
      ]
     },
     "metadata": {
      "needs_background": "light"
     },
     "output_type": "display_data"
    }
   ],
   "source": [
    "plt.rcParams['figure.figsize'] = (6.0, 6.0)\n",
    "\n",
    "preds_r = pd.DataFrame({\"preds\":model_Ridge.predict(x_test.drop(['pct_change_bin'],axis=1)), \"true\":y_test})\n",
    "preds_r[\"residuals\"] = preds_r[\"true\"] - preds_r[\"preds\"]\n",
    "preds_r.plot(x = \"preds\", y = \"residuals\",kind = \"scatter\")\n",
    "\n",
    "\n"
   ]
  },
  {
   "cell_type": "code",
   "execution_count": 28,
   "metadata": {},
   "outputs": [
    {
     "name": "stdout",
     "output_type": "stream",
     "text": [
      "0.003049310280037793\n"
     ]
    }
   ],
   "source": [
    "y_pred3 = model_Ridge.predict(x_test.drop(['pct_change_bin'],axis=1))           \n",
    "print(mean_squared_error(y_test, y_pred3))    "
   ]
  },
  {
   "cell_type": "code",
   "execution_count": 29,
   "metadata": {},
   "outputs": [
    {
     "data": {
      "text/plain": [
       "0.0011079490290819942"
      ]
     },
     "execution_count": 29,
     "metadata": {},
     "output_type": "execute_result"
    },
    {
     "data": {
      "image/png": "[encoded data removed]",
      "text/plain": [
       "<Figure size 432x432 with 1 Axes>"
      ]
     },
     "metadata": {
      "needs_background": "light"
     },
     "output_type": "display_data"
    }
   ],
   "source": [
    "alphas = [0.00001,0.0001,0.001,0.01, 0.1, 1, 10,100,1000,10**4]\n",
    "cv_ridge = []\n",
    "for alpha in alphas:\n",
    "    model_Ridge = RidgeCV(alphas = [alpha]).fit(x_train.drop(['pct_change_bin'],axis=1),y_train)\n",
    "    y_pred3 = model_Ridge.predict(x_test.drop(['pct_change_bin'],axis=1))\n",
    "    cv_ridge.append(mean_squared_error(y_test, y_pred3))\n",
    "    \n",
    "cv_ridge = pd.Series(cv_ridge, index = alphas)\n",
    "cv_ridge.plot(title = \"Validation\")\n",
    "plt.xlabel(\"alpha\")\n",
    "plt.ylabel(\"rmse\") \n",
    "cv_ridge.min()"
   ]
  },
  {
   "cell_type": "code",
   "execution_count": 30,
   "metadata": {},
   "outputs": [
    {
     "name": "stderr",
     "output_type": "stream",
     "text": [
      "/Users/DongyingWang/anaconda3/lib/python3.7/site-packages/sklearn/linear_model/_coordinate_descent.py:527: ConvergenceWarning: Objective did not converge. You might want to increase the number of iterations. Duality gap: 5.4121860106186785, tolerance: 0.001567417447254166\n",
      "  tol, rng, random, positive)\n",
      "/Users/DongyingWang/anaconda3/lib/python3.7/site-packages/sklearn/linear_model/_coordinate_descent.py:527: ConvergenceWarning: Objective did not converge. You might want to increase the number of iterations. Duality gap: 5.381002284260195, tolerance: 0.0015746291192930955\n",
      "  tol, rng, random, positive)\n",
      "/Users/DongyingWang/anaconda3/lib/python3.7/site-packages/sklearn/linear_model/_coordinate_descent.py:527: ConvergenceWarning: Objective did not converge. You might want to increase the number of iterations. Duality gap: 5.2478864811149295, tolerance: 0.0015485785864857412\n",
      "  tol, rng, random, positive)\n",
      "/Users/DongyingWang/anaconda3/lib/python3.7/site-packages/sklearn/linear_model/_coordinate_descent.py:527: ConvergenceWarning: Objective did not converge. You might want to increase the number of iterations. Duality gap: 5.342695576004033, tolerance: 0.0015709729382399759\n",
      "  tol, rng, random, positive)\n",
      "/Users/DongyingWang/anaconda3/lib/python3.7/site-packages/sklearn/linear_model/_coordinate_descent.py:527: ConvergenceWarning: Objective did not converge. You might want to increase the number of iterations. Duality gap: 5.372865698346826, tolerance: 0.0015844757528958478\n",
      "  tol, rng, random, positive)\n",
      "/Users/DongyingWang/anaconda3/lib/python3.7/site-packages/sklearn/linear_model/_coordinate_descent.py:531: ConvergenceWarning: Objective did not converge. You might want to increase the number of iterations. Duality gap: 6.693725219860691, tolerance: 0.0019615215316853905\n",
      "  positive)\n",
      "/Users/DongyingWang/anaconda3/lib/python3.7/site-packages/sklearn/linear_model/_coordinate_descent.py:527: ConvergenceWarning: Objective did not converge. You might want to increase the number of iterations. Duality gap: 5.59486232030327, tolerance: 0.001567417447254166\n",
      "  tol, rng, random, positive)\n",
      "/Users/DongyingWang/anaconda3/lib/python3.7/site-packages/sklearn/linear_model/_coordinate_descent.py:527: ConvergenceWarning: Objective did not converge. You might want to increase the number of iterations. Duality gap: 5.556328994601082, tolerance: 0.0015746291192930955\n",
      "  tol, rng, random, positive)\n",
      "/Users/DongyingWang/anaconda3/lib/python3.7/site-packages/sklearn/linear_model/_coordinate_descent.py:527: ConvergenceWarning: Objective did not converge. You might want to increase the number of iterations. Duality gap: 5.430781679101105, tolerance: 0.0015485785864857412\n",
      "  tol, rng, random, positive)\n",
      "/Users/DongyingWang/anaconda3/lib/python3.7/site-packages/sklearn/linear_model/_coordinate_descent.py:527: ConvergenceWarning: Objective did not converge. You might want to increase the number of iterations. Duality gap: 5.528534632709648, tolerance: 0.0015709729382399759\n",
      "  tol, rng, random, positive)\n",
      "/Users/DongyingWang/anaconda3/lib/python3.7/site-packages/sklearn/linear_model/_coordinate_descent.py:527: ConvergenceWarning: Objective did not converge. You might want to increase the number of iterations. Duality gap: 5.557409915612869, tolerance: 0.0015844757528958478\n",
      "  tol, rng, random, positive)\n",
      "/Users/DongyingWang/anaconda3/lib/python3.7/site-packages/sklearn/linear_model/_coordinate_descent.py:531: ConvergenceWarning: Objective did not converge. You might want to increase the number of iterations. Duality gap: 6.91965217045614, tolerance: 0.0019615215316853905\n",
      "  positive)\n",
      "/Users/DongyingWang/anaconda3/lib/python3.7/site-packages/sklearn/linear_model/_coordinate_descent.py:527: ConvergenceWarning: Objective did not converge. You might want to increase the number of iterations. Duality gap: 0.14033773048925724, tolerance: 0.001567417447254166\n",
      "  tol, rng, random, positive)\n",
      "/Users/DongyingWang/anaconda3/lib/python3.7/site-packages/sklearn/linear_model/_coordinate_descent.py:527: ConvergenceWarning: Objective did not converge. You might want to increase the number of iterations. Duality gap: 5.563889157242419, tolerance: 0.0015746291192930955\n",
      "  tol, rng, random, positive)\n",
      "/Users/DongyingWang/anaconda3/lib/python3.7/site-packages/sklearn/linear_model/_coordinate_descent.py:527: ConvergenceWarning: Objective did not converge. You might want to increase the number of iterations. Duality gap: 5.194178570924386, tolerance: 0.0015485785864857412\n",
      "  tol, rng, random, positive)\n",
      "/Users/DongyingWang/anaconda3/lib/python3.7/site-packages/sklearn/linear_model/_coordinate_descent.py:527: ConvergenceWarning: Objective did not converge. You might want to increase the number of iterations. Duality gap: 5.410619330555782, tolerance: 0.0015709729382399759\n",
      "  tol, rng, random, positive)\n",
      "/Users/DongyingWang/anaconda3/lib/python3.7/site-packages/sklearn/linear_model/_coordinate_descent.py:527: ConvergenceWarning: Objective did not converge. You might want to increase the number of iterations. Duality gap: 3.2869005041256916, tolerance: 0.0015844757528958478\n",
      "  tol, rng, random, positive)\n",
      "/Users/DongyingWang/anaconda3/lib/python3.7/site-packages/sklearn/linear_model/_coordinate_descent.py:531: ConvergenceWarning: Objective did not converge. You might want to increase the number of iterations. Duality gap: 6.235583416234598, tolerance: 0.0019615215316853905\n",
      "  positive)\n",
      "/Users/DongyingWang/anaconda3/lib/python3.7/site-packages/sklearn/linear_model/_coordinate_descent.py:527: ConvergenceWarning: Objective did not converge. You might want to increase the number of iterations. Duality gap: 2.294998225219566, tolerance: 0.001567417447254166\n",
      "  tol, rng, random, positive)\n",
      "/Users/DongyingWang/anaconda3/lib/python3.7/site-packages/sklearn/linear_model/_coordinate_descent.py:527: ConvergenceWarning: Objective did not converge. You might want to increase the number of iterations. Duality gap: 0.18202687341647739, tolerance: 0.0015746291192930955\n",
      "  tol, rng, random, positive)\n",
      "/Users/DongyingWang/anaconda3/lib/python3.7/site-packages/sklearn/linear_model/_coordinate_descent.py:527: ConvergenceWarning: Objective did not converge. You might want to increase the number of iterations. Duality gap: 1.408778827582223, tolerance: 0.0015485785864857412\n",
      "  tol, rng, random, positive)\n",
      "/Users/DongyingWang/anaconda3/lib/python3.7/site-packages/sklearn/linear_model/_coordinate_descent.py:527: ConvergenceWarning: Objective did not converge. You might want to increase the number of iterations. Duality gap: 1.2494402913117089, tolerance: 0.0015709729382399759\n",
      "  tol, rng, random, positive)\n",
      "/Users/DongyingWang/anaconda3/lib/python3.7/site-packages/sklearn/linear_model/_coordinate_descent.py:527: ConvergenceWarning: Objective did not converge. You might want to increase the number of iterations. Duality gap: 1.7964882717525867, tolerance: 0.0015844757528958478\n",
      "  tol, rng, random, positive)\n",
      "/Users/DongyingWang/anaconda3/lib/python3.7/site-packages/sklearn/linear_model/_coordinate_descent.py:531: ConvergenceWarning: Objective did not converge. You might want to increase the number of iterations. Duality gap: 1.756030171834718, tolerance: 0.0019615215316853905\n",
      "  positive)\n"
     ]
    },
    {
     "data": {
      "text/plain": [
       "0.0011388042986313642"
      ]
     },
     "execution_count": 30,
     "metadata": {},
     "output_type": "execute_result"
    },
    {
     "data": {
      "image/png": "[encoded data removed]",
      "text/plain": [
       "<Figure size 432x432 with 1 Axes>"
      ]
     },
     "metadata": {
      "needs_background": "light"
     },
     "output_type": "display_data"
    }
   ],
   "source": [
    "alphas = [0.00001,0.0001,0.001,0.01]\n",
    "cv_lasso = []\n",
    "for alpha in alphas:\n",
    "    model_lasso = LassoCV(alphas = [alpha]).fit(x_train.drop(['pct_change_bin'],axis=1),y_train)\n",
    "    y_pred3 = model_lasso.predict(x_test.drop(['pct_change_bin'],axis=1))\n",
    "    cv_lasso.append(mean_squared_error(y_test, y_pred3))\n",
    "    \n",
    "cv_lasso = pd.Series(cv_lasso, index = alphas)\n",
    "cv_lasso.plot(title = \"Validation\")\n",
    "plt.xlabel(\"alpha\")\n",
    "plt.ylabel(\"rmse\") \n",
    "cv_lasso.min()"
   ]
  },
  {
   "cell_type": "code",
   "execution_count": 31,
   "metadata": {},
   "outputs": [
    {
     "name": "stderr",
     "output_type": "stream",
     "text": [
      "/Users/DongyingWang/anaconda3/lib/python3.7/site-packages/sklearn/linear_model/_coordinate_descent.py:531: ConvergenceWarning: Objective did not converge. You might want to increase the number of iterations. Duality gap: 6.669839288086552, tolerance: 0.0019615215316853905\n",
      "  positive)\n",
      "/Users/DongyingWang/anaconda3/lib/python3.7/site-packages/sklearn/linear_model/_coordinate_descent.py:531: ConvergenceWarning: Objective did not converge. You might want to increase the number of iterations. Duality gap: 6.859231050609241, tolerance: 0.0019615215316853905\n",
      "  positive)\n",
      "/Users/DongyingWang/anaconda3/lib/python3.7/site-packages/sklearn/linear_model/_coordinate_descent.py:531: ConvergenceWarning: Objective did not converge. You might want to increase the number of iterations. Duality gap: 6.490886017806516, tolerance: 0.0019615215316853905\n",
      "  positive)\n",
      "/Users/DongyingWang/anaconda3/lib/python3.7/site-packages/sklearn/linear_model/_coordinate_descent.py:531: ConvergenceWarning: Objective did not converge. You might want to increase the number of iterations. Duality gap: 1.3821988704804067, tolerance: 0.0019615215316853905\n",
      "  positive)\n",
      "/Users/DongyingWang/anaconda3/lib/python3.7/site-packages/sklearn/linear_model/_coordinate_descent.py:531: ConvergenceWarning: Objective did not converge. You might want to increase the number of iterations. Duality gap: 0.06760857669486242, tolerance: 0.0019615215316853905\n",
      "  positive)\n"
     ]
    },
    {
     "data": {
      "text/plain": [
       "0.0011079490290819942"
      ]
     },
     "execution_count": 31,
     "metadata": {},
     "output_type": "execute_result"
    },
    {
     "data": {
      "image/png": "[encoded data removed]",
      "text/plain": [
       "<Figure size 432x432 with 1 Axes>"
      ]
     },
     "metadata": {
      "needs_background": "light"
     },
     "output_type": "display_data"
    }
   ],
   "source": [
    "alphas = [0.00001,0.0001,0.001,0.01, 0.1, 1, 10,100,1000,10**4]\n",
    "cv_elastic = []\n",
    "for alpha in alphas:\n",
    "    model_elastic = ElasticNet(alpha = [alpha],l1_ratio=0.7).fit(x_train.drop(['pct_change_bin'],axis=1),y_train)\n",
    "    y_pred3 = model_elastic.predict(x_test.drop(['pct_change_bin'],axis=1))\n",
    "    cv_elastic.append(mean_squared_error(y_test, y_pred3))\n",
    "    \n",
    "cv_elastic = pd.Series(cv_ridge, index = alphas)\n",
    "cv_elastic.plot(title = \"Validation\")\n",
    "plt.xlabel(\"alpha\")\n",
    "plt.ylabel(\"rmse\") \n",
    "cv_elastic.min()"
   ]
  },
  {
   "cell_type": "code",
   "execution_count": 32,
   "metadata": {},
   "outputs": [
    {
     "name": "stderr",
     "output_type": "stream",
     "text": [
      "/Users/DongyingWang/anaconda3/lib/python3.7/site-packages/sklearn/linear_model/_coordinate_descent.py:531: ConvergenceWarning: Objective did not converge. You might want to increase the number of iterations. Duality gap: 6.859231050609241, tolerance: 0.0019615215316853905\n",
      "  positive)\n"
     ]
    },
    {
     "name": "stdout",
     "output_type": "stream",
     "text": [
      "ElasticNet picked 20 variables and eliminated the other 16 variables\n",
      "0.0011478990626297223\n"
     ]
    },
    {
     "data": {
      "image/png": "[encoded data removed]",
      "text/plain": [
       "<Figure size 576x720 with 1 Axes>"
      ]
     },
     "metadata": {
      "needs_background": "light"
     },
     "output_type": "display_data"
    },
    {
     "data": {
      "image/png": "[encoded data removed]",
      "text/plain": [
       "<Figure size 432x432 with 1 Axes>"
      ]
     },
     "metadata": {
      "needs_background": "light"
     },
     "output_type": "display_data"
    }
   ],
   "source": [
    "model_elastic=ElasticNet(alpha = [0.0001],l1_ratio=0.7).fit(x_train.drop(['pct_change_bin'],axis=1),y_train)\n",
    "\n",
    "\n",
    "coef_elastic = pd.Series(model_elastic.coef_, index = names)\n",
    "print(\"ElasticNet picked \" + str(sum(coef_elastic != 0)) + \" variables and eliminated the other \" +  str(sum(coef_elastic == 0)) + \" variables\")\n",
    "\n",
    "imp_coef = pd.concat([coef_elastic.sort_values().head(10),\n",
    "                     coef_elastic.sort_values().tail(10)])\n",
    "#imp_coef = pd.concat([coef_lasso.sort_values()])\n",
    "plt.rcParams['figure.figsize'] = (8.0, 10.0)\n",
    "imp_coef.plot(kind = \"barh\")\n",
    "plt.title(\"Coefficients in the Elastic Net Model\")\n",
    "\n",
    "plt.rcParams['figure.figsize'] = (6.0, 6.0)\n",
    "\n",
    "preds = pd.DataFrame({\"preds\":model_elastic.predict(x_test.drop(['pct_change_bin'],axis=1)), \"true\":y_test})\n",
    "preds[\"residuals\"] = preds[\"true\"] - preds[\"preds\"]\n",
    "preds.plot(x = \"preds\", y = \"residuals\",kind = \"scatter\")\n",
    "\n",
    "y_pred4 = model_elastic.predict(x_test.drop(['pct_change_bin'],axis=1))           \n",
    "print(mean_squared_error(y_test, y_pred4))    \n"
   ]
  },
  {
   "cell_type": "code",
   "execution_count": 33,
   "metadata": {},
   "outputs": [
    {
     "data": {
      "text/plain": [
       "20"
      ]
     },
     "execution_count": 33,
     "metadata": {},
     "output_type": "execute_result"
    }
   ],
   "source": [
    "len(coef_elastic[coef_elastic!=0])"
   ]
  },
  {
   "cell_type": "code",
   "execution_count": 34,
   "metadata": {},
   "outputs": [
    {
     "data": {
      "text/plain": [
       "saf2              -7.145267e-03\n",
       "saf3               7.725283e-02\n",
       "saf4               2.030124e-02\n",
       "mr5y               8.235012e-02\n",
       "pop1               1.764922e-07\n",
       "pop2              -7.949966e-06\n",
       "pop3               7.195555e-06\n",
       "pop4              -1.292074e-03\n",
       "inc1              -4.962784e-07\n",
       "inc3               8.208811e-07\n",
       "inc4              -5.464642e-08\n",
       "own1               4.659077e-04\n",
       "own2               4.199460e-04\n",
       "own3              -5.676778e-04\n",
       "lab1              -2.393820e-03\n",
       "lab2              -2.638371e-03\n",
       "vacancy_rate      -4.178499e-04\n",
       "walk_score_comm   -2.627426e-04\n",
       "bike_score_comm    1.399651e-04\n",
       "Age                2.762413e-04\n",
       "dtype: float64"
      ]
     },
     "execution_count": 34,
     "metadata": {},
     "output_type": "execute_result"
    }
   ],
   "source": [
    "coef_elastic[coef_elastic!=0]"
   ]
  },
  {
   "cell_type": "code",
   "execution_count": 35,
   "metadata": {},
   "outputs": [
    {
     "name": "stdout",
     "output_type": "stream",
     "text": [
      "<class 'pandas.core.frame.DataFrame'>\n",
      "Int64Index: 11638 entries, 3858 to 2830\n",
      "Data columns (total 37 columns):\n",
      " #   Column              Non-Null Count  Dtype   \n",
      "---  ------              --------------  -----   \n",
      " 0   LATITUDE            11638 non-null  float64 \n",
      " 1   LONGITUDE           11638 non-null  float64 \n",
      " 2   saf1                11638 non-null  float64 \n",
      " 3   saf2                11638 non-null  float64 \n",
      " 4   saf3                11638 non-null  float64 \n",
      " 5   saf4                11638 non-null  float64 \n",
      " 6   saf5                11638 non-null  float64 \n",
      " 7   saf6                11638 non-null  float64 \n",
      " 8   saf7                11638 non-null  float64 \n",
      " 9   saf8                11638 non-null  float64 \n",
      " 10  mr5y                11638 non-null  float64 \n",
      " 11  Inflation           11638 non-null  float64 \n",
      " 12  pop1                11638 non-null  int64   \n",
      " 13  pop2                11638 non-null  int64   \n",
      " 14  pop3                11638 non-null  int64   \n",
      " 15  pop4                11638 non-null  float64 \n",
      " 16  pop5                11638 non-null  float64 \n",
      " 17  pop6                11638 non-null  float64 \n",
      " 18  lan1                11638 non-null  float64 \n",
      " 19  lan2                11638 non-null  float64 \n",
      " 20  inc1                11638 non-null  int64   \n",
      " 21  inc2                11638 non-null  float64 \n",
      " 22  inc3                11638 non-null  int64   \n",
      " 23  inc4                11638 non-null  int64   \n",
      " 24  own1                11638 non-null  float64 \n",
      " 25  own2                11638 non-null  float64 \n",
      " 26  own3                11638 non-null  float64 \n",
      " 27  own4                11638 non-null  float64 \n",
      " 28  lab1                11638 non-null  float64 \n",
      " 29  lab2                11638 non-null  float64 \n",
      " 30  lab3                11638 non-null  float64 \n",
      " 31  vacancy_rate        11638 non-null  float64 \n",
      " 32  walk_score_comm     11638 non-null  float64 \n",
      " 33  transit_score_comm  11638 non-null  float64 \n",
      " 34  bike_score_comm     11638 non-null  float64 \n",
      " 35  pct_change_bin      11638 non-null  category\n",
      " 36  Age                 11638 non-null  float64 \n",
      "dtypes: category(1), float64(30), int64(6)\n",
      "memory usage: 3.3 MB\n"
     ]
    }
   ],
   "source": [
    "x_train.info()"
   ]
  },
  {
   "cell_type": "code",
   "execution_count": 36,
   "metadata": {},
   "outputs": [
    {
     "data": {
      "text/plain": [
       "Index(['LATITUDE', 'LONGITUDE', 'saf4', 'saf5', 'saf8', 'mr5y', 'Inflation',\n",
       "       'pop1', 'pop2', 'inc3', 'own3', 'own4', 'lab1', 'walk_score_comm',\n",
       "       'Age'],\n",
       "      dtype='object')"
      ]
     },
     "execution_count": 36,
     "metadata": {},
     "output_type": "execute_result"
    }
   ],
   "source": [
    "from mlxtend.feature_selection import SequentialFeatureSelector as sfs\n",
    "\n",
    "\n",
    "clf = LinearRegression()\n",
    "\n",
    "# Build step forward feature selection\n",
    "sfs1 = sfs(clf,k_features = 15,forward=True,floating=False, scoring='r2',cv=15)\n",
    "\n",
    "# Perform SFFS\n",
    "sfs1 = sfs1.fit(x_train.drop(['pct_change_bin'],axis=1),y_train)\n",
    "feat_cols = list(sfs1.k_feature_idx_)\n",
    "x_train.drop(['pct_change_bin'],axis=1).columns[feat_cols]"
   ]
  },
  {
   "cell_type": "code",
   "execution_count": 37,
   "metadata": {},
   "outputs": [
    {
     "name": "stderr",
     "output_type": "stream",
     "text": [
      "/Users/DongyingWang/anaconda3/lib/python3.7/site-packages/statsmodels/compat/pandas.py:49: FutureWarning: The Panel class is removed from pandas. Accessing it from the top-level namespace will also be removed in the next version\n",
      "  data_klasses = (pandas.Series, pandas.DataFrame, pandas.Panel)\n"
     ]
    },
    {
     "name": "stdout",
     "output_type": "stream",
     "text": [
      "['LATITUDE', 'saf2', 'saf3', 'saf4', 'saf5', 'saf6', 'saf7', 'saf8', 'mr5y', 'Inflation', 'pop1', 'pop2', 'pop3', 'pop4', 'pop5']\n"
     ]
    }
   ],
   "source": [
    "import statsmodels.api as sm\n",
    "y_o=y_train\n",
    "X_o=x_train.drop(['pct_change_bin'],axis=1)\n",
    "\n",
    "#Fitting sm.OLS model\n",
    "model = sm.OLS(y_o,X_o.astype(float)).fit()\n",
    "model.pvalues\n",
    "\n",
    "cols = list(X_o.columns)\n",
    "pmax = 1\n",
    "while (len(cols)>0):\n",
    "    p= []\n",
    "    X_1 = X_o[cols]\n",
    "    X_1 = sm.add_constant(X_1)\n",
    "    model = sm.OLS(y_o,X_1.astype(float)).fit()\n",
    "    p = pd.Series(model.pvalues.values[1:],index = cols)      \n",
    "    pmax = max(p)\n",
    "    feature_with_p_max = p.idxmax()\n",
    "    if(pmax>0.05):\n",
    "        cols.remove(feature_with_p_max)\n",
    "    else:\n",
    "        break\n",
    "selected_features_BE = cols\n",
    "print(selected_features_BE[0:15])"
   ]
  },
  {
   "cell_type": "code",
   "execution_count": 38,
   "metadata": {},
   "outputs": [
    {
     "data": {
      "text/plain": [
       "['LATITUDE',\n",
       " 'saf2',\n",
       " 'saf3',\n",
       " 'saf4',\n",
       " 'saf5',\n",
       " 'saf6',\n",
       " 'saf7',\n",
       " 'saf8',\n",
       " 'mr5y',\n",
       " 'Inflation',\n",
       " 'pop1',\n",
       " 'pop2',\n",
       " 'pop3',\n",
       " 'pop4',\n",
       " 'pop5',\n",
       " 'pop6',\n",
       " 'lan1',\n",
       " 'lan2',\n",
       " 'inc1',\n",
       " 'inc2',\n",
       " 'inc3',\n",
       " 'own2',\n",
       " 'own3',\n",
       " 'own4',\n",
       " 'lab2',\n",
       " 'lab3',\n",
       " 'vacancy_rate',\n",
       " 'walk_score_comm',\n",
       " 'Age']"
      ]
     },
     "execution_count": 38,
     "metadata": {},
     "output_type": "execute_result"
    }
   ],
   "source": [
    "selected_features_BE"
   ]
  },
  {
   "cell_type": "code",
   "execution_count": 39,
   "metadata": {},
   "outputs": [
    {
     "data": {
      "text/plain": [
       "Index(['saf3', 'saf4', 'saf5', 'saf7', 'mr5y', 'Inflation', 'pop4', 'pop5',\n",
       "       'inc2', 'inc3', 'lab1', 'lab3', 'walk_score_comm', 'transit_score_comm',\n",
       "       'Age'],\n",
       "      dtype='object')"
      ]
     },
     "execution_count": 39,
     "metadata": {},
     "output_type": "execute_result"
    }
   ],
   "source": [
    "from sklearn.feature_selection import SelectKBest\n",
    "from sklearn.feature_selection import f_classif\n",
    "from sklearn.feature_selection import f_regression\n",
    "from sklearn.preprocessing import StandardScaler\n",
    "sc = StandardScaler()\n",
    "\n",
    "y_o=y_train\n",
    "X_o=x_train.drop(['pct_change_bin'],axis=1)\n",
    "\n",
    "#X_o = sc.fit_transform(X_r)\n",
    "fvalue_selector = SelectKBest(f_regression,k=15)\n",
    "X_kbest = fvalue_selector.fit_transform(X_o, y_o)\n",
    "fvalue_selector.get_support([X_o.shape[1]])\n",
    "#X_new = fvalue_selector.transform(X_o)\n",
    "X_o.columns[fvalue_selector.get_support(indices=True)]"
   ]
  },
  {
   "cell_type": "code",
   "execution_count": 40,
   "metadata": {},
   "outputs": [
    {
     "data": {
      "text/plain": [
       "Index(['LATITUDE', 'LONGITUDE', 'saf4', 'saf5', 'saf8', 'mr5y', 'Inflation',\n",
       "       'pop1', 'pop2', 'inc3', 'own3', 'own4', 'lab1', 'walk_score_comm',\n",
       "       'Age'],\n",
       "      dtype='object')"
      ]
     },
     "execution_count": 40,
     "metadata": {},
     "output_type": "execute_result"
    }
   ],
   "source": [
    "x_train.drop(['pct_change_bin'],axis=1).columns[feat_cols]"
   ]
  },
  {
   "cell_type": "code",
   "execution_count": 41,
   "metadata": {},
   "outputs": [
    {
     "name": "stdout",
     "output_type": "stream",
     "text": [
      "['LATITUDE', 'saf2', 'saf3', 'saf4', 'saf5', 'saf6', 'saf7', 'saf8', 'mr5y', 'Inflation', 'pop1', 'pop2', 'pop3', 'pop4', 'pop5', 'pop6', 'lan1', 'lan2', 'inc1', 'inc2', 'inc3', 'own2', 'own3', 'own4', 'lab2', 'lab3', 'vacancy_rate', 'walk_score_comm', 'Age']\n"
     ]
    }
   ],
   "source": [
    "\n",
    "print(selected_features_BE)"
   ]
  },
  {
   "cell_type": "code",
   "execution_count": 42,
   "metadata": {},
   "outputs": [
    {
     "data": {
      "text/plain": [
       "Index(['saf3', 'saf4', 'saf5', 'saf7', 'mr5y', 'Inflation', 'pop4', 'pop5',\n",
       "       'inc2', 'inc3', 'lab1', 'lab3', 'walk_score_comm', 'transit_score_comm',\n",
       "       'Age'],\n",
       "      dtype='object')"
      ]
     },
     "execution_count": 42,
     "metadata": {},
     "output_type": "execute_result"
    }
   ],
   "source": [
    "\n",
    "X_o.columns[fvalue_selector.get_support(indices=True)]"
   ]
  },
  {
   "cell_type": "code",
   "execution_count": 43,
   "metadata": {},
   "outputs": [
    {
     "name": "stdout",
     "output_type": "stream",
     "text": [
      "Index(['saf2', 'saf3', 'saf4', 'mr5y', 'pop1', 'pop2', 'pop3', 'pop4', 'inc1',\n",
      "       'inc2', 'inc3', 'inc4', 'own1', 'own2', 'own3', 'lab1', 'lab2',\n",
      "       'vacancy_rate', 'walk_score_comm', 'transit_score_comm',\n",
      "       'bike_score_comm', 'Age'],\n",
      "      dtype='object')\n"
     ]
    }
   ],
   "source": [
    "print(coef_lasso[coef_lasso!=0].index)"
   ]
  },
  {
   "cell_type": "code",
   "execution_count": 44,
   "metadata": {},
   "outputs": [
    {
     "name": "stdout",
     "output_type": "stream",
     "text": [
      "Index(['saf2', 'saf3', 'saf4', 'mr5y', 'pop1', 'pop2', 'pop3', 'pop4', 'inc1',\n",
      "       'inc3', 'inc4', 'own1', 'own2', 'own3', 'lab1', 'lab2', 'vacancy_rate',\n",
      "       'walk_score_comm', 'bike_score_comm', 'Age'],\n",
      "      dtype='object')\n"
     ]
    }
   ],
   "source": [
    "print(coef_elastic[coef_elastic!=0].index)\n"
   ]
  },
  {
   "cell_type": "code",
   "execution_count": 48,
   "metadata": {},
   "outputs": [
    {
     "data": {
      "text/plain": [
       "Counter({'LATITUDE': 2,\n",
       "         'LONGITUDE': 1,\n",
       "         'saf4': 5,\n",
       "         'saf5': 3,\n",
       "         'saf8': 2,\n",
       "         'mr5y': 5,\n",
       "         'Inflation': 3,\n",
       "         'pop1': 4,\n",
       "         'pop2': 4,\n",
       "         'inc3': 5,\n",
       "         'own3': 4,\n",
       "         'own4': 2,\n",
       "         'lab1': 4,\n",
       "         'walk_score_comm': 5,\n",
       "         'Age': 5,\n",
       "         'saf2': 3,\n",
       "         'saf3': 4,\n",
       "         'saf6': 1,\n",
       "         'saf7': 2,\n",
       "         'pop3': 3,\n",
       "         'pop4': 4,\n",
       "         'pop5': 2,\n",
       "         'pop6': 1,\n",
       "         'lan1': 1,\n",
       "         'lan2': 1,\n",
       "         'inc1': 3,\n",
       "         'inc2': 3,\n",
       "         'own2': 3,\n",
       "         'lab2': 3,\n",
       "         'lab3': 2,\n",
       "         'vacancy_rate': 3,\n",
       "         'transit_score_comm': 2,\n",
       "         'inc4': 2,\n",
       "         'own1': 2,\n",
       "         'bike_score_comm': 2})"
      ]
     },
     "execution_count": 48,
     "metadata": {},
     "output_type": "execute_result"
    }
   ],
   "source": [
    "from collections import Counter\n",
    "Features=['LATITUDE', 'LONGITUDE', 'saf4', 'saf5', 'saf8', 'mr5y', 'Inflation',\n",
    "       'pop1', 'pop2', 'inc3', 'own3', 'own4', 'lab1', 'walk_score_comm',\n",
    "       'Age',\n",
    "         'LATITUDE', 'saf2', 'saf3', 'saf4', 'saf5', 'saf6', 'saf7', 'saf8', 'mr5y', 'Inflation', 'pop1', 'pop2', 'pop3', 'pop4', 'pop5', 'pop6', 'lan1', 'lan2', 'inc1', 'inc2', 'inc3', 'own2', 'own3', 'own4', 'lab2', 'lab3', 'vacancy_rate', 'walk_score_comm', 'Age',\n",
    "         'saf3', 'saf4', 'saf5', 'saf7', 'mr5y', 'Inflation', 'pop4', 'pop5',\n",
    "       'inc2', 'inc3', 'lab1', 'lab3', 'walk_score_comm', 'transit_score_comm',\n",
    "       'Age',\n",
    "        'saf2', 'saf3', 'saf4', 'mr5y', 'pop1', 'pop2', 'pop3', 'pop4', 'inc1',\n",
    "       'inc2', 'inc3', 'inc4', 'own1', 'own2', 'own3', 'lab1', 'lab2',\n",
    "       'vacancy_rate', 'walk_score_comm', 'transit_score_comm',\n",
    "       'bike_score_comm', 'Age',\n",
    "        'saf2', 'saf3', 'saf4', 'mr5y', 'pop1', 'pop2', 'pop3', 'pop4', 'inc1',\n",
    "       'inc3', 'inc4', 'own1', 'own2', 'own3', 'lab1', 'lab2', 'vacancy_rate',\n",
    "       'walk_score_comm', 'bike_score_comm', 'Age' ]\n",
    "\n",
    "\n",
    "Counter(Features)"
   ]
  },
  {
   "cell_type": "code",
   "execution_count": 49,
   "metadata": {},
   "outputs": [],
   "source": [
    "#feature_selected=['mr5y','saf8','Inflation','Year','LATITUDE','LONGITUDE','YEAR_OF_CONSTRUCTION','saf7','pop2','inc1','inc4','own3','lab2']\n",
    "#feature_selected=['YEAR_OF_CONSTRUCTION','saf2','saf3','saf7','saf8','pop2','pop4','pop5','inc3','own3','vacancy_rate','transit_score_comm','own2','lab2']         \n",
    "#feature_selected=['saf1','saf2','saf3','saf5','saf8','mr5y','Inflation','pop6','inc3','own3','lab2','walk_score_comm','bike_score_comm','LATITUDE','LONGITUDE','lan2','pop4','vacancy_rate']         \n",
    "#feature_selected=['saf1','saf4','saf5','saf6','pop2','inc1','own3','own4','lab2','vacancy_rate','transit_score_comm','bike_score_comm','own1','inc4']\n",
    "#feature_selected=['YEAR_OF_CONSTRUCTION','saf4','saf5','mr5y','Inflation','pop1','pop2','inc3','own3','lab1','walk_score_comm','saf3','saf2','pop3','pop4','inc1','inc2','own2','lab2','vacancy_rate']\n",
    "feature_selected=['saf4','saf5','mr5y','Inflation','pop1','pop2','inc3','own3','lab1','walk_score_comm','Age','saf2','saf3','pop3','pop4','inc1','inc2','own2','lab2','vacancy_rate']\n",
    "\n",
    "x_train2=x_train[feature_selected]\n",
    "x_test2=x_test[feature_selected]\n",
    "y_train_tree=x_train['pct_change_bin']\n",
    "y_test_tree=x_test['pct_change_bin']\n",
    "\n",
    "\n"
   ]
  },
  {
   "cell_type": "code",
   "execution_count": null,
   "metadata": {},
   "outputs": [],
   "source": [
    "y_test"
   ]
  },
  {
   "cell_type": "code",
   "execution_count": 50,
   "metadata": {},
   "outputs": [
    {
     "name": "stdout",
     "output_type": "stream",
     "text": [
      "R2 score 0.33721289778533003\n",
      "RMSE 0.03346867989505612\n"
     ]
    }
   ],
   "source": [
    "from sklearn.linear_model import LinearRegression\n",
    "L=LinearRegression()\n",
    "L.fit(x_train2,y_train)\n",
    "\n",
    "\n",
    "\n",
    "\n",
    "y_pred1=L.predict(x_test2)\n",
    "\n",
    "from sklearn.metrics import r2_score, mean_squared_error\n",
    "\n",
    "print('R2 score', r2_score(y_test,y_pred1))\n",
    "print('RMSE',np.sqrt(mean_squared_error(y_test,y_pred1)))"
   ]
  },
  {
   "cell_type": "code",
   "execution_count": 51,
   "metadata": {},
   "outputs": [],
   "source": [
    "c=DecisionTreeClassifier(min_samples_split=1000)\n",
    "dt=c.fit(x_train2, y_train_tree)\n"
   ]
  },
  {
   "cell_type": "code",
   "execution_count": 52,
   "metadata": {},
   "outputs": [
    {
     "name": "stderr",
     "output_type": "stream",
     "text": [
      "/Users/DongyingWang/anaconda3/lib/python3.7/site-packages/ipykernel_launcher.py:5: DeprecationWarning: `imread` is deprecated!\n",
      "`imread` is deprecated in SciPy 1.0.0, and will be removed in 1.2.0.\n",
      "Use ``imageio.imread`` instead.\n",
      "  \"\"\"\n"
     ]
    },
    {
     "data": {
      "image/png": "[encoded data removed]",
      "text/plain": [
       "<Figure size 1440x1440 with 1 Axes>"
      ]
     },
     "metadata": {
      "needs_background": "light"
     },
     "output_type": "display_data"
    }
   ],
   "source": [
    "def show_tree(tree, features, path):\n",
    "    f=io.StringIO()\n",
    "    export_graphviz(tree, out_file=f, feature_names=features)\n",
    "    pydotplus.graph_from_dot_data(f.getvalue()).write_png(path)\n",
    "    img=misc.imread(path)\n",
    "    plt.rcParams[\"figure.figsize\"]=(20,20)\n",
    "    plt.imshow(img)\n",
    "    \n",
    "show_tree(dt,feature_selected,\"dec_tree_02.png\")"
   ]
  },
  {
   "cell_type": "code",
   "execution_count": 53,
   "metadata": {},
   "outputs": [],
   "source": [
    "y_pred_tree1=c.predict(x_test2)"
   ]
  },
  {
   "cell_type": "code",
   "execution_count": 54,
   "metadata": {},
   "outputs": [
    {
     "name": "stdout",
     "output_type": "stream",
     "text": [
      "Accuracy using Decision Tree: 66.8 %\n"
     ]
    }
   ],
   "source": [
    "from sklearn.metrics import accuracy_score\n",
    "score=accuracy_score(y_test_tree,y_pred_tree1)*100\n",
    "print(\"Accuracy using Decision Tree:\", round(score, 1),\"%\")"
   ]
  },
  {
   "cell_type": "code",
   "execution_count": 55,
   "metadata": {},
   "outputs": [
    {
     "data": {
      "text/plain": [
       "Text(69.0, 0.5, 'Truth')"
      ]
     },
     "execution_count": 55,
     "metadata": {},
     "output_type": "execute_result"
    },
    {
     "data": {
      "image/png": "[encoded data removed]",
      "text/plain": [
       "<Figure size 720x504 with 2 Axes>"
      ]
     },
     "metadata": {
      "needs_background": "light"
     },
     "output_type": "display_data"
    }
   ],
   "source": [
    "from sklearn.metrics import confusion_matrix\n",
    "cm=confusion_matrix(y_test_tree,y_pred_tree1)\n",
    "#cm=confusion_matrix(y_test,y_pred)\n",
    "%matplotlib inline\n",
    "plt.figure(figsize=(10,7))\n",
    "sns.heatmap(cm,annot=True)\n",
    "plt.xlabel(\"Predicted\")\n",
    "plt.ylabel(\"Truth\")"
   ]
  },
  {
   "cell_type": "code",
   "execution_count": 56,
   "metadata": {},
   "outputs": [
    {
     "name": "stdout",
     "output_type": "stream",
     "text": [
      "Accuracy using Decision Tree: 68.6 %\n"
     ]
    }
   ],
   "source": [
    "from sklearn.ensemble import RandomForestClassifier\n",
    "\n",
    "model_rf=RandomForestClassifier(n_estimators=1000)\n",
    "model_rf.fit(x_train2, y_train_tree)\n",
    "model_rf.score(x_test2, y_test_tree)\n",
    "\n",
    "y_pred_rf=model_rf.predict(x_test2)\n",
    "score_rf=accuracy_score(y_test_tree,y_pred_rf)*100\n",
    "print(\"Accuracy using Decision Tree:\", round(score_rf, 1),\"%\")\n",
    "\n",
    "#model_rf.fit(x_train.drop(['pct_change_bin'],axis=1), y_train_tree)\n",
    "#model_rf.score(x_test.drop(['pct_change_bin'],axis=1), y_test_tree)"
   ]
  },
  {
   "cell_type": "code",
   "execution_count": 57,
   "metadata": {},
   "outputs": [
    {
     "data": {
      "text/plain": [
       "Text(69.0, 0.5, 'Truth')"
      ]
     },
     "execution_count": 57,
     "metadata": {},
     "output_type": "execute_result"
    },
    {
     "data": {
      "image/png": "[encoded data removed]",
      "text/plain": [
       "<Figure size 720x504 with 2 Axes>"
      ]
     },
     "metadata": {
      "needs_background": "light"
     },
     "output_type": "display_data"
    }
   ],
   "source": [
    "from sklearn.metrics import confusion_matrix\n",
    "cm=confusion_matrix(y_test_tree,y_pred_rf)\n",
    "#cm=confusion_matrix(y_test,y_pred)\n",
    "%matplotlib inline\n",
    "plt.figure(figsize=(10,7))\n",
    "sns.heatmap(cm,annot=True)\n",
    "plt.xlabel(\"Predicted\")\n",
    "plt.ylabel(\"Truth\")"
   ]
  },
  {
   "cell_type": "code",
   "execution_count": 58,
   "metadata": {},
   "outputs": [
    {
     "name": "stdout",
     "output_type": "stream",
     "text": [
      "Accuracy of Model: 0.6996563573883161\n"
     ]
    }
   ],
   "source": [
    "from sklearn.ensemble import GradientBoostingClassifier\n",
    "\n",
    "GB_classifier=GradientBoostingClassifier()\n",
    "GB_classifier.fit(x_train2, y_train_tree)\n",
    "\n",
    "y_pred_g=GB_classifier.predict(x_test2)\n",
    "\n",
    "print(\"Accuracy of Model:\",accuracy_score(y_test_tree,y_pred_g))\n",
    "\n",
    "\n"
   ]
  },
  {
   "cell_type": "code",
   "execution_count": 59,
   "metadata": {},
   "outputs": [
    {
     "name": "stdout",
     "output_type": "stream",
     "text": [
      "Accuracy of Model: 0.7013745704467353\n"
     ]
    }
   ],
   "source": [
    "xgb_classifier=xgb.XGBClassifier(objective='multi:softprob')\n",
    "#xgb_classifier.fit(x_train2, y_train_tree)\n",
    "#y_pred_x=xgb_classifier.predict(x_test2)\n",
    "xgb_classifier.fit(x_train.drop(['pct_change_bin'],axis=1), y_train_tree)\n",
    "y_pred_x=xgb_classifier.predict(x_test.drop(['pct_change_bin'],axis=1))\n",
    "\n",
    "print(\"Accuracy of Model:\",accuracy_score(y_test_tree,y_pred_x))\n",
    "#x_test.drop(['pct_change_bin'],axis=1)\n"
   ]
  },
  {
   "cell_type": "code",
   "execution_count": 60,
   "metadata": {},
   "outputs": [
    {
     "data": {
      "image/png": "[encoded data removed]",
      "text/plain": [
       "<Figure size 432x288 with 1 Axes>"
      ]
     },
     "metadata": {
      "needs_background": "light"
     },
     "output_type": "display_data"
    }
   ],
   "source": [
    "xgb.plot_importance(xgb_classifier)\n",
    "\n",
    "#plt.rcParams['figure.figsize']=[1000,10]\n",
    "plt.rcParams['figure.figsize'] = (10.0, 10.0)\n",
    "plt.show()\n",
    "\n",
    "#plt.savefig(\"xgboost_figure.png\", bbox_inches='tight', dpi=600)"
   ]
  },
  {
   "cell_type": "code",
   "execution_count": 61,
   "metadata": {},
   "outputs": [],
   "source": [
    "#x_train.drop(['pct_change_bin'],axis=1).info()"
   ]
  },
  {
   "cell_type": "code",
   "execution_count": 62,
   "metadata": {},
   "outputs": [
    {
     "data": {
      "image/png": "[encoded data removed]",
      "text/plain": [
       "<Figure size 720x720 with 1 Axes>"
      ]
     },
     "metadata": {
      "needs_background": "light"
     },
     "output_type": "display_data"
    }
   ],
   "source": [
    "xgb.plot_tree(xgb_classifier,num_trees=0)\n",
    "plt.rcParams['figure.figsize']=[20,20]\n",
    "#plt.show()\n",
    "plt.savefig(\"xgboost_tree1.png\", bbox_inches='tight', dpi=600)"
   ]
  },
  {
   "cell_type": "code",
   "execution_count": 63,
   "metadata": {},
   "outputs": [
    {
     "data": {
      "image/png": "[encoded data removed]",
      "text/plain": [
       "<Figure size 720x504 with 2 Axes>"
      ]
     },
     "metadata": {
      "needs_background": "light"
     },
     "output_type": "display_data"
    }
   ],
   "source": [
    "cm=confusion_matrix(y_test_tree,y_pred_x)\n",
    "#cm=confusion_matrix(y_test,y_pred)\n",
    "%matplotlib inline\n",
    "plt.figure(figsize=(10,7))\n",
    "sns.heatmap(cm,annot=True)\n",
    "plt.xlabel(\"Predicted\")\n",
    "plt.ylabel(\"Truth\")\n",
    "plt.savefig(\"confusion_xgboost.png\", bbox_inches='tight', dpi=600)"
   ]
  },
  {
   "cell_type": "code",
   "execution_count": 64,
   "metadata": {},
   "outputs": [
    {
     "name": "stdout",
     "output_type": "stream",
     "text": [
      "Accuracy of Model: 0.6979381443298969\n"
     ]
    }
   ],
   "source": [
    "xgb_classifier=xgb.XGBClassifier(objective='multi:softprob')\n",
    "xgb_classifier.fit(x_train2, y_train_tree)\n",
    "y_pred_x=xgb_classifier.predict(x_test2)\n",
    "\n",
    "print(\"Accuracy of Model:\",accuracy_score(y_test_tree,y_pred_x))\n",
    "#x_test.drop(['pct_change_bin'],axis=1)"
   ]
  },
  {
   "cell_type": "code",
   "execution_count": 65,
   "metadata": {},
   "outputs": [
    {
     "data": {
      "text/plain": [
       "(11638, 20)"
      ]
     },
     "execution_count": 65,
     "metadata": {},
     "output_type": "execute_result"
    }
   ],
   "source": [
    "x_train2.shape"
   ]
  },
  {
   "cell_type": "code",
   "execution_count": 95,
   "metadata": {},
   "outputs": [
    {
     "data": {
      "image/png": "[encoded data removed]",
      "text/plain": [
       "<Figure size 720x720 with 1 Axes>"
      ]
     },
     "metadata": {
      "needs_background": "light"
     },
     "output_type": "display_data"
    }
   ],
   "source": [
    "xgb.plot_importance(xgb_classifier)\n",
    "\n",
    "#plt.rcParams['figure.figsize']=[1000,10]\n",
    "plt.rcParams['figure.figsize'] = (10.0, 10.0)\n",
    "plt.show()\n",
    "\n",
    "ax.set_xlabel('')\n",
    "#plt.savefig(\"xgboost_figure.png\", bbox_inches='tight', dpi=600)"
   ]
  },
  {
   "cell_type": "code",
   "execution_count": 67,
   "metadata": {},
   "outputs": [
    {
     "data": {
      "image/png": "[encoded data removed]",
      "text/plain": [
       "<Figure size 720x720 with 1 Axes>"
      ]
     },
     "metadata": {
      "needs_background": "light"
     },
     "output_type": "display_data"
    }
   ],
   "source": [
    "xgb.plot_tree(xgb_classifier,num_trees=0)\n",
    "plt.rcParams['figure.figsize']=[10,10]\n",
    "#plt.show()\n",
    "plt.savefig(\"xgboost_tree2.png\", bbox_inches='tight', dpi=600)"
   ]
  },
  {
   "cell_type": "code",
   "execution_count": 93,
   "metadata": {},
   "outputs": [
    {
     "data": {
      "text/plain": [
       "[Text(0, 0.5, '[-0.12  -0.06)'),\n",
       " Text(0, 1.5, '[-0.06  0)'),\n",
       " Text(0, 2.5, '[0  0.06)'),\n",
       " Text(0, 3.5, '[0.06  0.12]')]"
      ]
     },
     "execution_count": 93,
     "metadata": {},
     "output_type": "execute_result"
    },
    {
     "data": {
      "image/png": "[encoded data removed]",
      "text/plain": [
       "<Figure size 432x288 with 2 Axes>"
      ]
     },
     "metadata": {
      "needs_background": "light"
     },
     "output_type": "display_data"
    },
    {
     "data": {
      "text/plain": [
       "<Figure size 720x720 with 0 Axes>"
      ]
     },
     "metadata": {},
     "output_type": "display_data"
    }
   ],
   "source": [
    "cm=confusion_matrix(y_test_tree,y_pred_x)\n",
    "#cm=confusion_matrix(y_test,y_pred)\n",
    "%matplotlib inline\n",
    "ax=plt.subplot()\n",
    "plt.figure(figsize=(10,10))\n",
    "sns.heatmap(cm,annot=True,ax=ax)\n",
    "ax.set_xlabel(\"Predicted\")\n",
    "ax.set_ylabel(\"Truth\")\n",
    "ax.set_title('Confusion Matrix')\n",
    "ax.xaxis.set_ticklabels(['[-0.12  -0.06)','[-0.06  0)','[0  0.06)','[0.06  0.12]'])\n",
    "ax.xaxis.set_ticklabels(['[-0.12  -0.06)','[-0.06  0)','[0  0.06)','[0.06  0.12]'])\n",
    "ax.set_yticklabels(ax.get_xticklabels(), rotation=0, ha='right')"
   ]
  },
  {
   "cell_type": "code",
   "execution_count": 75,
   "metadata": {},
   "outputs": [
    {
     "data": {
      "image/png": "[encoded data removed]",
      "text/plain": [
       "<Figure size 720x504 with 2 Axes>"
      ]
     },
     "metadata": {
      "needs_background": "light"
     },
     "output_type": "display_data"
    }
   ],
   "source": [
    "cm=confusion_matrix(y_test_tree,y_pred_x)\n",
    "#cm=confusion_matrix(y_test,y_pred)\n",
    "%matplotlib inline\n",
    "plt.figure(figsize=(10,7))\n",
    "sns.heatmap(cm,annot=True)\n",
    "\n",
    "\n",
    "plt.xlabel(\"Predicted\")\n",
    "plt.ylabel(\"Truth\")\n",
    "plt.show()"
   ]
  },
  {
   "cell_type": "code",
   "execution_count": 69,
   "metadata": {},
   "outputs": [],
   "source": [
    "#len(y_pred_x[y_pred_x==0])"
   ]
  },
  {
   "cell_type": "code",
   "execution_count": 70,
   "metadata": {},
   "outputs": [
    {
     "data": {
      "text/plain": [
       "405      0.105111\n",
       "3921     0.093310\n",
       "8221     0.069054\n",
       "15397    0.070632\n",
       "10316    0.084524\n",
       "           ...   \n",
       "2497     0.091503\n",
       "15406    0.073897\n",
       "2541     0.080752\n",
       "4765     0.088889\n",
       "6289     0.110009\n",
       "Name: pct_change, Length: 133, dtype: float64"
      ]
     },
     "execution_count": 70,
     "metadata": {},
     "output_type": "execute_result"
    }
   ],
   "source": [
    "y_test[y_test_tree==3]"
   ]
  },
  {
   "cell_type": "code",
   "execution_count": 71,
   "metadata": {},
   "outputs": [
    {
     "name": "stdout",
     "output_type": "stream",
     "text": [
      "Feature: 0, Score: 0.02090\n",
      "Feature: 1, Score: 0.01366\n",
      "Feature: 2, Score: 0.32647\n",
      "Feature: 3, Score: 0.08617\n",
      "Feature: 4, Score: 0.00438\n",
      "Feature: 5, Score: 0.00514\n",
      "Feature: 6, Score: 0.00627\n",
      "Feature: 7, Score: 0.00494\n",
      "Feature: 8, Score: 0.00295\n",
      "Feature: 9, Score: 0.08105\n",
      "Feature: 10, Score: 0.27327\n",
      "Feature: 11, Score: 0.02241\n",
      "Feature: 12, Score: 0.01919\n",
      "Feature: 13, Score: 0.00384\n",
      "Feature: 14, Score: 0.00455\n",
      "Feature: 15, Score: 0.03005\n",
      "Feature: 16, Score: 0.00874\n",
      "Feature: 17, Score: 0.01220\n",
      "Feature: 18, Score: 0.00488\n",
      "Feature: 19, Score: 0.06895\n"
     ]
    },
    {
     "data": {
      "image/png": "[encoded data removed]",
      "text/plain": [
       "<Figure size 432x288 with 1 Axes>"
      ]
     },
     "metadata": {
      "needs_background": "light"
     },
     "output_type": "display_data"
    },
    {
     "name": "stdout",
     "output_type": "stream",
     "text": [
      "RMSE 0.035106656231918255\n"
     ]
    }
   ],
   "source": [
    "from sklearn.tree import DecisionTreeRegressor\n",
    "reg_dt = DecisionTreeRegressor()\n",
    "\n",
    "reg_dt.fit(x_train2, y_train)\n",
    "\n",
    "importance_dt_reg = reg_dt.feature_importances_\n",
    "\n",
    "for i,v in enumerate(importance_dt_reg):\n",
    "    print('Feature: %0d, Score: %.5f' % (i,v))\n",
    "\n",
    "    plt.bar([x for x in range(len(importance_dt_reg))], importance_dt_reg)\n",
    "plt.show()\n",
    "\n",
    "y_pred_dt_reg=reg_dt.predict(x_test2)\n",
    "print('RMSE',np.sqrt(mean_squared_error(y_test,y_pred_dt_reg)))\n",
    "\n",
    "\n",
    "#y_pred_dt_reg=reg_dt.predict(x_test2)\n",
    "#print(\"Accuracy of Model:\",accuracy_score(y_test_tree,y_pred_dt_reg))\n"
   ]
  },
  {
   "cell_type": "code",
   "execution_count": 72,
   "metadata": {},
   "outputs": [
    {
     "name": "stdout",
     "output_type": "stream",
     "text": [
      "Feature: 0, Score: 0.01673\n",
      "Feature: 1, Score: 0.01214\n",
      "Feature: 2, Score: 0.18694\n",
      "Feature: 3, Score: 0.19868\n",
      "Feature: 4, Score: 0.00586\n",
      "Feature: 5, Score: 0.00638\n",
      "Feature: 6, Score: 0.00655\n",
      "Feature: 7, Score: 0.00862\n",
      "Feature: 8, Score: 0.00661\n",
      "Feature: 9, Score: 0.09347\n",
      "Feature: 10, Score: 0.26887\n",
      "Feature: 11, Score: 0.01954\n",
      "Feature: 12, Score: 0.01818\n",
      "Feature: 13, Score: 0.00526\n",
      "Feature: 14, Score: 0.00927\n",
      "Feature: 15, Score: 0.02546\n",
      "Feature: 16, Score: 0.01531\n",
      "Feature: 17, Score: 0.01784\n",
      "Feature: 18, Score: 0.00884\n",
      "Feature: 19, Score: 0.06944\n"
     ]
    },
    {
     "data": {
      "image/png": "[encoded data removed]",
      "text/plain": [
       "<Figure size 432x288 with 1 Axes>"
      ]
     },
     "metadata": {
      "needs_background": "light"
     },
     "output_type": "display_data"
    },
    {
     "name": "stdout",
     "output_type": "stream",
     "text": [
      "RMSE 0.03114046203494276\n"
     ]
    }
   ],
   "source": [
    "from sklearn.ensemble import RandomForestRegressor\n",
    "\n",
    "reg_rf = RandomForestRegressor()\n",
    "\n",
    "reg_rf.fit(x_train2, y_train)\n",
    "\n",
    "importance_reg_rf = reg_rf.feature_importances_\n",
    "\n",
    "for i,v in enumerate(importance_reg_rf):\n",
    "    print('Feature: %0d, Score: %.5f' % (i,v))\n",
    "\n",
    "plt.bar([x for x in range(len(importance_reg_rf))], importance_reg_rf)\n",
    "plt.show()\n",
    "\n",
    "y_pred_rf_reg=reg_rf.predict(x_test2)\n",
    "print('RMSE',np.sqrt(mean_squared_error(y_test,y_pred_rf_reg)))\n"
   ]
  },
  {
   "cell_type": "code",
   "execution_count": 73,
   "metadata": {},
   "outputs": [
    {
     "name": "stdout",
     "output_type": "stream",
     "text": [
      "[10:06:34] WARNING: /usr/local/miniconda/conda-bld/xgboost_1566327371504/work/src/objective/regression_obj.cu:152: reg:linear is now deprecated in favor of reg:squarederror.\n",
      "Feature: 0, Score: 0.01462\n",
      "Feature: 1, Score: 0.01648\n",
      "Feature: 2, Score: 0.57021\n",
      "Feature: 3, Score: 0.04348\n",
      "Feature: 4, Score: 0.02786\n",
      "Feature: 5, Score: 0.02470\n",
      "Feature: 6, Score: 0.01407\n",
      "Feature: 7, Score: 0.01191\n",
      "Feature: 8, Score: 0.01779\n",
      "Feature: 9, Score: 0.02756\n",
      "Feature: 10, Score: 0.02732\n",
      "Feature: 11, Score: 0.01888\n",
      "Feature: 12, Score: 0.02207\n",
      "Feature: 13, Score: 0.00000\n",
      "Feature: 14, Score: 0.03661\n",
      "Feature: 15, Score: 0.03594\n",
      "Feature: 16, Score: 0.03777\n",
      "Feature: 17, Score: 0.02953\n",
      "Feature: 18, Score: 0.00683\n",
      "Feature: 19, Score: 0.01637\n"
     ]
    },
    {
     "data": {
      "image/png": "[encoded data removed]",
      "text/plain": [
       "<Figure size 432x288 with 1 Axes>"
      ]
     },
     "metadata": {
      "needs_background": "light"
     },
     "output_type": "display_data"
    },
    {
     "name": "stdout",
     "output_type": "stream",
     "text": [
      "RMSE 0.030408423924667524\n"
     ]
    }
   ],
   "source": [
    "from xgboost import XGBRegressor\n",
    "\n",
    "reg_x = XGBRegressor()\n",
    "\n",
    "reg_x.fit(x_train2, y_train)\n",
    "\n",
    "importance_reg_x = reg_x.feature_importances_\n",
    "for i,v in enumerate(importance_reg_x):\n",
    "    print('Feature: %0d, Score: %.5f' % (i,v))\n",
    "\n",
    "plt.bar([x for x in range(len(importance_reg_x))], importance_reg_x)\n",
    "plt.show()\n",
    "\n",
    "\n",
    "y_pred_x_reg=reg_x.predict(x_test2)\n",
    "print('RMSE',np.sqrt(mean_squared_error(y_test,y_pred_x_reg)))\n"
   ]
  },
  {
   "cell_type": "code",
   "execution_count": null,
   "metadata": {},
   "outputs": [],
   "source": []
  },
  {
   "cell_type": "code",
   "execution_count": null,
   "metadata": {},
   "outputs": [],
   "source": []
  },
  {
   "cell_type": "code",
   "execution_count": null,
   "metadata": {},
   "outputs": [],
   "source": []
  },
  {
   "cell_type": "code",
   "execution_count": null,
   "metadata": {},
   "outputs": [],
   "source": []
  },
  {
   "cell_type": "code",
   "execution_count": null,
   "metadata": {},
   "outputs": [],
   "source": []
  },
  {
   "cell_type": "code",
   "execution_count": null,
   "metadata": {},
   "outputs": [],
   "source": []
  }
 ],
 "metadata": {
  "kernelspec": {
   "display_name": "Python 3",
   "language": "python",
   "name": "python3"
  },
  "language_info": {
   "codemirror_mode": {
    "name": "ipython",
    "version": 3
   },
   "file_extension": ".py",
   "mimetype": "text/x-python",
   "name": "python",
   "nbconvert_exporter": "python",
   "pygments_lexer": "ipython3",
   "version": "3.7.3"
  }
 },
 "nbformat": 4,
 "nbformat_minor": 2
}
